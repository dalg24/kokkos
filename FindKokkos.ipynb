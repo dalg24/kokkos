{
 "cells": [
  {
   "cell_type": "markdown",
   "metadata": {
    "slideshow": {
     "livereveal": {
      "theme": "sky",
      "transition": "zoom"
     },
     "slide_type": "slide"
    }
   },
   "source": [
    "# CMake issues<br/> when depending on Kokkos\n",
    "\n",
    "Damien Lebrun-Grandié and Daniel Arndt"
   ]
  },
  {
   "cell_type": "markdown",
   "metadata": {
    "slideshow": {
     "slide_type": "slide"
    }
   },
   "source": [
    "## How to find Kokkos as an external project and load its setting?\n",
    "\n",
    "\n",
    "* What are we trying to do?\n",
    "* How is it done today and what are the limits of the current practice?\n",
    "* What's different in the approach we suggest and why do we think it is better\n",
    "* Who cares?\n",
    "* What are the risks and the payoffs?\n"
   ]
  },
  {
   "cell_type": "markdown",
   "metadata": {
    "slideshow": {
     "slide_type": "slide"
    }
   },
   "source": [
    "`<target>` has been created by `add_library()` or `add_executable()`\n",
    "\n",
    "How to use say Boost.Serialization\n",
    "```CMake\n",
    "find_package(Boost REQUIRED serialization)\n",
    "target_link_libraries(<target> Boost::serialization)\n",
    "```"
   ]
  },
  {
   "cell_type": "markdown",
   "metadata": {
    "slideshow": {
     "slide_type": "slide"
    }
   },
   "source": [
    "```C++\n",
    "// Foo.cpp\n",
    "#include <Kokkos_Core.hpp>\n",
    "\n",
    "int main(int &argc, char *argv[]) {\n",
    "  Kokkos::ScopeGuard(argc, argv);\n",
    "  Kokkos::View<double*> v(\"v\", 10);\n",
    "}\n",
    "```\n",
    "```CMake\n",
    "add_executable(foo.exe Foo.cpp)\n",
    "# How do I link to Kokkos???\n",
    "```"
   ]
  },
  {
   "cell_type": "markdown",
   "metadata": {
    "slideshow": {
     "slide_type": "slide"
    },
    "toc-hr-collapsed": false
   },
   "source": [
    "# Crash course: find an external project and load its settings\n",
    "\n",
    "```CMake\n",
    "find_package(<PackageName> [version] [EXACT] [QUIET] [MODULE]\n",
    "             [REQUIRED] [[COMPONENTS] [components...]]\n",
    "             [OPTIONAL_COMPONENTS components...]\n",
    "             [NO_POLICY_SCOPE])\n",
    "```\n",
    "`<PackageName>_FOUND` set to indicate whether the package was found or not  \n",
    "package-specific information provided through variables and **imported targets**  \n",
    "`REQUIRED` option stops processing with an error message if package cannot be found  \n",
    "`[version]` argument requests a version with which the pacakge found should be compatible\n",
    "\n",
    "\n",
    "The command has two modes by which it searches for packages: \"Module\" mode and \"Config\" mode.  \n",
    "Above signature selects Module mode and falls back to Config mode (unless `MODULE` option present)\n"
   ]
  },
  {
   "cell_type": "markdown",
   "metadata": {
    "slideshow": {
     "slide_type": "subslide"
    }
   },
   "source": [
    "### Module mode,\n",
    "CMake searches for a file called `Find<PackageName>.cmake`.  \n",
    "If found, file is read and processed by CMake.  \n",
    "Responsible for finding the package, checking the version, and producing any needed messages."
   ]
  },
  {
   "cell_type": "markdown",
   "metadata": {
    "slideshow": {
     "slide_type": "fragment"
    }
   },
   "source": [
    "### Config mode  \n",
    "CMake searches for a file called `<PackageName>Config.cmake` or `<lower-case-package-name>-config.cmake`  \n",
    "once found configuration file read and processed by CMake"
   ]
  },
  {
   "cell_type": "markdown",
   "metadata": {
    "slideshow": {
     "slide_type": "slide"
    }
   },
   "source": [
    "# HOW TO BUILD KOKKOS\n",
    "\n",
    "Kokkos can be installed via\n",
    "* generated makefile\n",
    "* CMake\n",
    "* TriBITS as part of Trilinos"
   ]
  },
  {
   "cell_type": "markdown",
   "metadata": {
    "slideshow": {
     "slide_type": "subslide"
    }
   },
   "source": [
    "# FindKokkos\n",
    "\n",
    "So what do we do?\n",
    "\n",
    "Write a \"find module\", i.e. a `FindKokkos.cmake` file to be loaded by `find_package()`\n",
    "\n",
    "\n",
    "\n",
    "\n",
    "\n",
    "\n",
    "\n",
    "\n",
    "`Kokkos_FOUND`\n",
    "`Kokkos_INCLUDE_DIRS`\n",
    "`Kokkos_LIBRARIES`\n",
    "`Kokkos_DEFINITIONS`\n",
    "`Kokkos_NVCC_WRAPPER_EXECTUABLE`\n",
    "`Kokkos_LIBRARY_DIRS`\n",
    "`Kokkos_VERSION`\n",
    "\n",
    "Should **not** be used, typically cache variables for user to edit and control the behavior of find modules\n",
    "\n",
    "`Kokkos_LIBRARY`\n",
    "`Kokkos_INCLUDE_DIR`\n",
    "\n",
    "Prevent user to be overwhelmed with settings to configure"
   ]
  },
  {
   "cell_type": "markdown",
   "metadata": {
    "slideshow": {
     "slide_type": "fragment"
    }
   },
   "source": [
    "Traditional approach is to use variables for everything, including libraries and executables"
   ]
  },
  {
   "cell_type": "markdown",
   "metadata": {
    "slideshow": {
     "slide_type": "fragment"
    }
   },
   "source": [
    "More modern approach is to behave as much like config file packages files as possible, by providing **imported target**.  \n",
    "Advantage of propagating transitive usage requirements to consumers"
   ]
  },
  {
   "cell_type": "markdown",
   "metadata": {
    "slideshow": {
     "slide_type": "slide"
    }
   },
   "source": [
    "# A sample find module for Kokkos\n",
    "\n",
    "Try to use `pkg-config` to find the library since it is currently available for Kokkos\n",
    "\n",
    "```CMake\n",
    "find_package(PkgConfig)\n",
    "pkg_check_modules(PC_Kokkos QUIET kokkos)\n",
    "```\n",
    "define some variables starting `PC_Kokkos_` that contain the information from the `kokkos.pc` file\n",
    "\n",
    "\n",
    "use the information from `pkg-config` to provide hints to CMake about where to look\n",
    "```CMake\n",
    "find_path(Kokkos_INCLUDE_DIR\n",
    "  NAMES Kokkos_Core.hpp\n",
    "  PATHS ${PC_Kokkos_INCLUDE_DIRS}\n",
    ")\n",
    "\n",
    "find_library(Kokkos_LIBRARY\n",
    "  NAMES kokkos\n",
    "  PATHS ${PC_Kokkos_LIBRARY_DIRS}\n",
    ")\n",
    "\n",
    "set(Kokkos_VERSION ${PC_Kokkos_VERSION}) # not currently defined in kokkos.pc\n",
    "\n",
    "include(FindPackageHandleStandardArgs)\n",
    "find_package_handle_standard_args(Kokkos\n",
    "  FOUND_VAR Kokkos_FOUND\n",
    "  REQUIRED_VARS\n",
    "    Kokkos_LIBRARY\n",
    "    Kokkos_INCLUDE_DIR\n",
    "  VERSION_VAR Kokkos_VERSION \n",
    ")\n",
    "```"
   ]
  },
  {
   "cell_type": "markdown",
   "metadata": {
    "slideshow": {
     "slide_type": "subslide"
    }
   },
   "source": [
    "### Provide a way for users of the find module to link to Kokkos\n",
    "\n",
    "Traditional variable approach looks like\n",
    "```CMake\n",
    "if(Kokkos_FOUND)\n",
    "  set(Kokkos_LIBRARIES ${Kokkos_LIBRARY})\n",
    "  set(Kokkos_INCLUDE_DIRS ${Kokkos_INCLUDE_DIR})\n",
    "  set(Kokkos_DEFINITIONS ${PC_Kokkos_CFLAGS_OTHER})\n",
    "endif()\n",
    "```\n",
    "\n",
    "When providing imported target, these should be namespaced (note the `Kokkos::` prefix)  \n",
    "CMake will recognize that values passed to `target_link_libraries()` that contain `::` in their name are supposed to be imported targets (rather than just library names), and will produce appropriate diagnostic messages if that target does not exist \n",
    "```CMake\n",
    "if(Kokkos_FOUND AND NOT TARGET Kokkos::Kokkos)\n",
    "  add_library(Kokkos::Kokkos UNKNOWN IMPORTED)  \n",
    "  set_target_properties(Kokkos::Kokkos PROPERTIES\n",
    "    IMPORTED_LOCATION \"${Kokkos_LIBRARY}\"\n",
    "    INTERFACE_COMPILE_OPTIONS \"${PC_Kokkos_CFLAGS_OTHER}\"\n",
    "    INTERFACE_INCLUDE_DIRECTORIES \"${Kokkos_INCLUDE_DIR}\"\n",
    "  )\n",
    "endif()\n",
    "```"
   ]
  },
  {
   "cell_type": "markdown",
   "metadata": {
    "slideshow": {
     "slide_type": "subslide"
    }
   },
   "source": [
    "```CMake\n",
    "#[=======================================================================[.rst:\n",
    "FindKokkos\n",
    "-------\n",
    "\n",
    "Finds the Kokkos library.\n",
    "\n",
    "Imported Targets\n",
    "^^^^^^^^^^^^^^^^\n",
    "\n",
    "This module provides the following imported targets, if found:\n",
    "\n",
    "``Kokkos::Kokkos``\n",
    "  The Kokkos library\n",
    "\n",
    "Result Variables\n",
    "^^^^^^^^^^^^^^^^\n",
    "\n",
    "This will define the following variables:\n",
    "\n",
    "``Kokkos_FOUND``\n",
    "  True if the system has the Kokkos library.\n",
    "``Kokkos_VERSION``\n",
    "  The version of the Kokkos library which was found.\n",
    "``Kokkos_INCLUDE_DIRS``\n",
    "  Include directories needed to use Kokkos.\n",
    "``Kokkos_LIBRARIES``\n",
    "  Libraries needed to link to Kokkos.\n",
    "\n",
    "Cache Variables\n",
    "^^^^^^^^^^^^^^^\n",
    "\n",
    "The following cache variables may also be set:\n",
    "\n",
    "``Kokkos_INCLUDE_DIR``\n",
    "  The directory containing ``Kokkos_Core.hpp``.\n",
    "``Kokkos_LIBRARY``\n",
    "  The path to the Kokkos library.\n",
    "\n",
    "#]=======================================================================]\n",
    "\n",
    "find_package(PkgConfig)\n",
    "pkg_check_modules(PC_Kokkos QUIET kokkos)\n",
    "\n",
    "find_path(Kokkos_INCLUDE_DIR\n",
    "  NAMES Kokkos_Core.hpp\n",
    "  PATHS ${PC_Kokkos_INCLUDE_DIRS}\n",
    ")\n",
    "find_library(Kokkos_LIBRARY\n",
    "  NAMES kokkos\n",
    "  PATHS ${PC_Kokkos_LIBRARY_DIRS}\n",
    ")\n",
    "\n",
    "set(Kokkos_VERSION ${PC_Kokkos_VERSION})\n",
    "\n",
    "include(FindPackageHandleStandardArgs)\n",
    "find_package_handle_standard_args(Kokkos\n",
    "  FOUND_VAR Kokkos_FOUND\n",
    "  REQUIRED_VARS\n",
    "    Kokkos_LIBRARY\n",
    "    Kokkos_INCLUDE_DIR\n",
    "  VERSION_VAR Kokkos_VERSION \n",
    ")\n",
    "\n",
    "if(Kokkos_FOUND)\n",
    "  set(Kokkos_LIBRARIES ${Kokkos_LIBRARY})\n",
    "  set(Kokkos_INCLUDE_DIRS ${Kokkos_INCLUDE_DIR})\n",
    "  set(Kokkos_DEFINITIONS ${PC_Kokkos_CFLAGS_OTHER})\n",
    "endif()\n",
    "\n",
    "if(Kokkos_FOUND AND NOT TARGET Kokkos::Kokkos)\n",
    "  add_library(Kokkos::Kokkos UNKNOWN IMPORTED)  \n",
    "  set_target_properties(Kokkos::Kokkos PROPERTIES\n",
    "    IMPORTED_LOCATION \"${Kokkos_LIBRARY}\"\n",
    "    INTERFACE_COMPILE_OPTIONS \"${PC_Kokkos_CFLAGS_OTHER}\"\n",
    "    INTERFACE_INCLUDE_DIRECTORIES \"${Kokkos_INCLUDE_DIR}\"\n",
    "  )\n",
    "endif()\n",
    "\n",
    "mark_as_advanced(\n",
    "  Kokkos_INCLUDE_DIR\n",
    "  Kokkos_LIBRARY\n",
    ")\n",
    "```"
   ]
  },
  {
   "cell_type": "markdown",
   "metadata": {},
   "source": [
    "# NONAME\n",
    "\n",
    "Every project that uses Kokkos write its own `FindKokkos.cmake`?"
   ]
  },
  {
   "cell_type": "markdown",
   "metadata": {},
   "source": [
    "# Status quo"
   ]
  },
  {
   "cell_type": "markdown",
   "metadata": {
    "slideshow": {
     "slide_type": "slide"
    }
   },
   "source": [
    "```diff\n",
    "<prefix>\n",
    "├── Makefile.kokkos\n",
    "├── bin\n",
    "│   └── nvcc_wrapper\n",
    "├── include\n",
    "│   ├── KokkosCore_config.h\n",
    "│   ├── KokkosExp_MDRangePolicy.hpp\n",
    "│   ├── Kokkos_AnonymousSpace.hpp\n",
    "│   ├── Kokkos_Array.hpp\n",
    "│   ├── Kokkos_Atomic.hpp\n",
    "│   ├── Kokkos_Bitset.hpp\n",
    "│   ├── Kokkos_Complex.hpp\n",
    "│   ├── Kokkos_Concepts.hpp\n",
    "│   ├── Kokkos_CopyViews.hpp\n",
    "│   ├── Kokkos_Core.hpp\n",
    "│   ├── Kokkos_Core_fwd.hpp\n",
    "│   ├── Kokkos_Crs.hpp\n",
    "│   ├── Kokkos_Cuda.hpp\n",
    "│   ├── Kokkos_CudaSpace.hpp\n",
    "│   ├── Kokkos_DualView.hpp\n",
    "│   ├── Kokkos_DynRankView.hpp\n",
    "│   ├── Kokkos_DynamicView.hpp\n",
    "│   ├── Kokkos_ErrorReporter.hpp\n",
    "│   ├── Kokkos_ExecPolicy.hpp\n",
    "│   ├── Kokkos_Extents.hpp\n",
    "│   ├── Kokkos_Functional.hpp\n",
    "│   ├── Kokkos_Future.hpp\n",
    "│   ├── Kokkos_HBWSpace.hpp\n",
    "│   ├── Kokkos_HostSpace.hpp\n",
    "│   ├── Kokkos_Layout.hpp\n",
    "│   ├── Kokkos_Macros.hpp\n",
    "│   ├── Kokkos_MasterLock.hpp\n",
    "│   ├── Kokkos_MemoryPool.hpp\n",
    "│   ├── Kokkos_MemoryTraits.hpp\n",
    "│   ├── Kokkos_NumericTraits.hpp\n",
    "│   ├── Kokkos_OffsetView.hpp\n",
    "│   ├── Kokkos_OpenMP.hpp\n",
    "│   ├── Kokkos_OpenMPTarget.hpp\n",
    "│   ├── Kokkos_OpenMPTargetSpace.hpp\n",
    "│   ├── Kokkos_Pair.hpp\n",
    "│   ├── Kokkos_Parallel.hpp\n",
    "│   ├── Kokkos_Parallel_Reduce.hpp\n",
    "│   ├── Kokkos_PointerOwnership.hpp\n",
    "│   ├── Kokkos_Profiling_ProfileSection.hpp\n",
    "│   ├── Kokkos_Qthreads.hpp\n",
    "│   ├── Kokkos_ROCm.hpp\n",
    "│   ├── Kokkos_ROCmSpace.hpp\n",
    "│   ├── Kokkos_Random.hpp\n",
    "│   ├── Kokkos_ScatterView.hpp\n",
    "│   ├── Kokkos_ScratchSpace.hpp\n",
    "│   ├── Kokkos_Serial.hpp\n",
    "│   ├── Kokkos_Sort.hpp\n",
    "│   ├── Kokkos_StaticCrsGraph.hpp\n",
    "│   ├── Kokkos_TaskPolicy.hpp\n",
    "│   ├── Kokkos_TaskScheduler.hpp\n",
    "│   ├── Kokkos_TaskScheduler_fwd.hpp\n",
    "│   ├── Kokkos_Threads.hpp\n",
    "│   ├── Kokkos_Timer.hpp\n",
    "│   ├── Kokkos_UniqueToken.hpp\n",
    "│   ├── Kokkos_UnorderedMap.hpp\n",
    "│   ├── Kokkos_Vector.hpp\n",
    "│   ├── Kokkos_Vectorization.hpp\n",
    "│   ├── Kokkos_View.hpp\n",
    "│   ├── Kokkos_WorkGraphPolicy.hpp\n",
    "│   ├── Kokkos_hwloc.hpp\n",
    "│   ├── OpenMP\n",
    "│   │   ├── Kokkos_OpenMP_Exec.hpp\n",
    "│   │   ├── Kokkos_OpenMP_Parallel.hpp\n",
    "│   │   ├── Kokkos_OpenMP_Task.hpp\n",
    "│   │   ├── Kokkos_OpenMP_Team.hpp\n",
    "│   │   ├── Kokkos_OpenMP_ViewCopyETIAvail.hpp\n",
    "│   │   ├── Kokkos_OpenMP_ViewCopyETIDecl.hpp\n",
    "│   │   └── Kokkos_OpenMP_WorkGraphPolicy.hpp\n",
    "│   └── impl\n",
    "│       ├── KokkosExp_Host_IterateTile.hpp\n",
    "│       ├── KokkosExp_ViewMapping.hpp\n",
    "│       ├── Kokkos_AnalyzePolicy.hpp\n",
    "│       ├── Kokkos_Atomic_Assembly.hpp\n",
    "│       ├── Kokkos_Atomic_Compare_Exchange_Strong.hpp\n",
    "│       ├── Kokkos_Atomic_Compare_Exchange_Weak.hpp\n",
    "│       ├── Kokkos_Atomic_Decrement.hpp\n",
    "│       ├── Kokkos_Atomic_Exchange.hpp\n",
    "│       ├── Kokkos_Atomic_Fetch_Add.hpp\n",
    "│       ├── Kokkos_Atomic_Fetch_And.hpp\n",
    "│       ├── Kokkos_Atomic_Fetch_Or.hpp\n",
    "│       ├── Kokkos_Atomic_Fetch_Sub.hpp\n",
    "│       ├── Kokkos_Atomic_Generic.hpp\n",
    "│       ├── Kokkos_Atomic_Increment.hpp\n",
    "│       ├── Kokkos_Atomic_View.hpp\n",
    "│       ├── Kokkos_Atomic_Windows.hpp\n",
    "│       ├── Kokkos_BitOps.hpp\n",
    "│       ├── Kokkos_Bitset_impl.hpp\n",
    "│       ├── Kokkos_CPUDiscovery.hpp\n",
    "│       ├── Kokkos_ChaseLev.hpp\n",
    "│       ├── Kokkos_ClockTic.hpp\n",
    "│       ├── Kokkos_ConcurrentBitset.hpp\n",
    "│       ├── Kokkos_EBO.hpp\n",
    "│       ├── Kokkos_Error.hpp\n",
    "│       ├── Kokkos_Functional_impl.hpp\n",
    "│       ├── Kokkos_FunctorAdapter.hpp\n",
    "│       ├── Kokkos_FunctorAnalysis.hpp\n",
    "│       ├── Kokkos_HostBarrier.hpp\n",
    "│       ├── Kokkos_HostSpace_deepcopy.hpp\n",
    "│       ├── Kokkos_HostThreadTeam.hpp\n",
    "│       ├── Kokkos_LIFO.hpp\n",
    "│       ├── Kokkos_LinkedListNode.hpp\n",
    "│       ├── Kokkos_MemoryPoolAllocator.hpp\n",
    "│       ├── Kokkos_Memory_Fence.hpp\n",
    "│       ├── Kokkos_MultipleTaskQueue.hpp\n",
    "│       ├── Kokkos_OldMacros.hpp\n",
    "│       ├── Kokkos_OptionalRef.hpp\n",
    "│       ├── Kokkos_PhysicalLayout.hpp\n",
    "│       ├── Kokkos_Profiling_DeviceInfo.hpp\n",
    "│       ├── Kokkos_Profiling_Interface.hpp\n",
    "│       ├── Kokkos_Serial_Task.hpp\n",
    "│       ├── Kokkos_Serial_WorkGraphPolicy.hpp\n",
    "│       ├── Kokkos_SharedAlloc.hpp\n",
    "│       ├── Kokkos_SimpleTaskScheduler.hpp\n",
    "│       ├── Kokkos_SingleTaskQueue.hpp\n",
    "│       ├── Kokkos_Spinwait.hpp\n",
    "│       ├── Kokkos_StaticAssert.hpp\n",
    "│       ├── Kokkos_StaticCrsGraph_factory.hpp\n",
    "│       ├── Kokkos_Tags.hpp\n",
    "│       ├── Kokkos_TaskBase.hpp\n",
    "│       ├── Kokkos_TaskNode.hpp\n",
    "│       ├── Kokkos_TaskPolicyData.hpp\n",
    "│       ├── Kokkos_TaskQueue.hpp\n",
    "│       ├── Kokkos_TaskQueueCommon.hpp\n",
    "│       ├── Kokkos_TaskQueueMemoryManager.hpp\n",
    "│       ├── Kokkos_TaskQueueMultiple.hpp\n",
    "│       ├── Kokkos_TaskQueueMultiple_impl.hpp\n",
    "│       ├── Kokkos_TaskQueue_impl.hpp\n",
    "│       ├── Kokkos_TaskResult.hpp\n",
    "│       ├── Kokkos_TaskTeamMember.hpp\n",
    "│       ├── Kokkos_Timer.hpp\n",
    "│       ├── Kokkos_Traits.hpp\n",
    "│       ├── Kokkos_UnorderedMap_impl.hpp\n",
    "│       ├── Kokkos_Utilities.hpp\n",
    "│       ├── Kokkos_VLAEmulation.hpp\n",
    "│       ├── Kokkos_ViewArray.hpp\n",
    "│       ├── Kokkos_ViewCtor.hpp\n",
    "│       ├── Kokkos_ViewFillCopyETIAvail.hpp\n",
    "│       ├── Kokkos_ViewFillCopyETIDecl.hpp\n",
    "│       ├── Kokkos_ViewLayoutTiled.hpp\n",
    "│       ├── Kokkos_ViewMapping.hpp\n",
    "│       ├── Kokkos_ViewTile.hpp\n",
    "│       ├── Kokkos_ViewUniformType.hpp\n",
    "│       └── Kokkos_Volatile_Load.hpp\n",
    "├── kokkos_generated_settings.cmake\n",
    "└── lib\n",
    "    ├── cmake\n",
    "    │   └── kokkos\n",
    "    │       └── kokkos-config.cmake\n",
    "    ├── libkokkos.a\n",
    "    └── pkgconfig\n",
    "        └── kokkos.pc\n",
    "\n",
    "8 directories, 147 files\n",
    "```"
   ]
  },
  {
   "cell_type": "markdown",
   "metadata": {},
   "source": [
    "```cmake\n",
    "find_package(Kokkos REQUIRED)\n",
    "target_link_libraries(<foo> Kokkos::kokkos)\n",
    "```\n",
    "\n",
    "```cmake\n",
    "find_package(PkgConfig REQUIRED)\n",
    "pkg_check_modules(KOKKOS REQUIRED IMPORTED_TARGET kokkos)\n",
    "#                 ^^^^^^\n",
    "#                 user's choice\n",
    "target_link_libraries(<foo> PkgConfig::KOKKOS)\n",
    "#                                      ^^^^^^\n",
    "```"
   ]
  },
  {
   "cell_type": "markdown",
   "metadata": {
    "slideshow": {
     "slide_type": "slide"
    }
   },
   "source": [
    "* User write a `FindKokkos.cmake`\n",
    "\n",
    "```CMake\n",
    "include(FindPackageHandleStandardArgs)\n",
    "find_path(KOKKOS_INCLUDE_DIR Kokkos_Core.hpp)\n",
    "find_library(KOKKOS_LIBRARY NAMES kokkos)\n",
    "find_package_handle_standard_args(kokkos REQUIRED_VARS\n",
    "  KOKKOS_INCLUDE_DIR\n",
    "  KOKKOS_LIBRARY\n",
    ")\n",
    "\n",
    "add_library(Kokkos::kokkos INTERFACE IMPORTED)\n",
    "set_target_properties(Kokkos::kokkos PROPERTIES\n",
    "  INTERFACE_INCLUDE_DIRECTORIES ${KOKKOS_INCLUDE_DIR}\n",
    "  INTERFACE_LINK_LIBRARIES      ${KOKKOS_LIBRARY}\n",
    ")\n",
    "```"
   ]
  },
  {
   "cell_type": "markdown",
   "metadata": {
    "slideshow": {
     "slide_type": "fragment"
    }
   },
   "source": [
    "* What's wrong with that module?"
   ]
  },
  {
   "cell_type": "markdown",
   "metadata": {
    "slideshow": {
     "slide_type": "subslide"
    }
   },
   "source": [
    "```CMake\n",
    "find_package(PkgConfig QUIET)\n",
    "pkg_check_modules(PC_KOKKOS kokkos QUIET)\n",
    "\n",
    "find_path(KOKKOS_SETTINGS_DIR kokkos_generated_settings.cmake HINTS ${PC_KOKKOS_PREFIX})\n",
    "\n",
    "find_path(KOKKOS_INCLUDE_DIR Kokkos_Core.hpp HINTS ${PC_KOKKOS_INCLUDE_DIRS})\n",
    "find_library(KOKKOS_LIBRARY NAMES kokkos kokkoscore HINTS ${PC_KOKKOS_LIBRARY_DIRS})\n",
    "\n",
    "include(FindPackageHandleStandardArgs)\n",
    "# handle the QUIETLY and REQUIRED arguments and set KOKKOS_FOUND to TRUE\n",
    "# if all listed variables are TRUE\n",
    "find_package_handle_standard_args(KOKKOS DEFAULT_MSG KOKKOS_SETTINGS_DIR KOKKOS_INCLUDE_DIR KOKKOS_LIBRARY)\n",
    "\n",
    "mark_as_advanced(KOKKOS_SETTINGS_DIR KOKKOS_INCLUDE_DIR KOKKOS_LIBRARY)\n",
    "\n",
    "if(KOKKOS_SETTINGS_DIR AND KOKKOS_INCLUDE_DIR AND KOKKOS_LIBRARY)\n",
    "  include(${KOKKOS_SETTINGS_DIR}/kokkos_generated_settings.cmake)\n",
    "  # https://github.com/kokkos/kokkos/issues/1838\n",
    "  set(KOKKOS_CXX_FLAGS_WITHOUT_INCLUDES_STRING)\n",
    "  set(KOKKOS_CXX_FLAGS_WITHOUT_INCLUDES)\n",
    "  foreach(_f ${KOKKOS_CXX_FLAGS})\n",
    "    if(NOT _f MATCHES \"-I.*\")\n",
    "      set(KOKKOS_CXX_FLAGS_WITHOUT_INCLUDES_STRING \"${KOKKOS_CXX_FLAGS_WITHOUT_INCLUDES_STRING} ${_f}\")\n",
    "      list(APPEND KOKKOS_CXX_FLAGS_WITHOUT_INCLUDES \"${_f}\")\n",
    "    endif()\n",
    "  endforeach()\n",
    "  add_library(Kokkos::kokkos UNKNOWN IMPORTED)\n",
    "  set_target_properties(Kokkos::kokkos PROPERTIES\n",
    "    IMPORTED_LOCATION ${KOKKOS_LIBRARY}\n",
    "    INTERFACE_INCLUDE_DIRECTORIES ${KOKKOS_INCLUDE_DIR}\n",
    "    INTERFACE_COMPILE_OPTIONS \"${KOKKOS_CXX_FLAGS_WITHOUT_INCLUDES}\"\n",
    "    INTERFACE_LINK_LIBRARIES \"${KOKKOS_EXTRA_LIBS}\")\n",
    "  # check for an empty link flags string to fix a trailing whitespace error when\n",
    "  # the link flags are empty (e.g. the serial only case)\n",
    "  if(KOKKOS_LINK_FLAGS)\n",
    "    set_property(TARGET Kokkos::kokkos APPEND_STRING PROPERTY INTERFACE_LINK_LIBRARIES \" ${KOKKOS_LINK_FLAGS}\")\n",
    "  endif()\n",
    "endif()\n",
    "```"
   ]
  },
  {
   "cell_type": "markdown",
   "metadata": {
    "slideshow": {
     "slide_type": "slide"
    }
   },
   "source": [
    "```CMake\n",
    "#[=======================================================================[.rst:\n",
    "\n",
    "This function makes sure that kokkos was built with the requested backends\n",
    "and target architectures and generates a fatal error if it was not.\n",
    "\n",
    "kokkos_check_requested(\n",
    "  [DEVICES <devices>...] # Set of backends (e.g. \"OpenMP\" and/or \"Cuda\")\n",
    "  [ARCH <archs>...]      # Target architectures (e.g. \"Power9\" and/or \"Volta70\")\n",
    ")\n",
    "#]=======================================================================]\n",
    "function(kokkos_check_requested)\n",
    "  cmake_parse_arguments(_KOKKOS_REQUESTED \"\" \"\" \"DEVICES;ARCH\" ${ARGN})\n",
    "  set(_KOKKOS_REQUESTED_ARGS)\n",
    "  foreach(_X DEVICES ARCH)\n",
    "    if(_KOKKOS_REQUESTED_${_X})\n",
    "      list(APPEND _KOKKOS_REQUESTED_ARGS ${_X})\n",
    "    endif()\n",
    "  endforeach()\n",
    "  set(_KOKKOS_CHECK_REQUESTED_SUCCESS TRUE)\n",
    "  foreach(_X ${_KOKKOS_REQUESTED_ARGS})\n",
    "    foreach(_requested ${_KOKKOS_REQUESTED_${_X}})\n",
    "      foreach(_provided ${KOKKOS_${_X}})\n",
    "        if(_requested STREQUAL _provided)\n",
    "          string(REPLACE \";\" \" \" ${_requested} \"${_KOKKOS_REQUESTED_${_X}}\")\n",
    "        endif()\n",
    "      endforeach()\n",
    "    endforeach()\n",
    "    find_package_handle_standard_args(\"KOKKOS_${_X}\" DEFAULT_MSG ${_KOKKOS_REQUESTED_${_X}})\n",
    "    if(NOT KOKKOS_${_X}_FOUND)\n",
    "      set(_KOKKOS_CHECK_REQUESTED_SUCCESS FALSE)\n",
    "    endif()\n",
    "  endforeach()\n",
    "  if(NOT _KOKKOS_CHECK_REQUESTED_SUCCESS)\n",
    "    message(FATAL_ERROR \"Kokkos does NOT provide all backends and/or architectures requested\")\n",
    "  endif()\n",
    "endfunction()\n",
    "```"
   ]
  },
  {
   "cell_type": "markdown",
   "metadata": {
    "slideshow": {
     "slide_type": "slide"
    }
   },
   "source": [
    "# Summary\n",
    "\n",
    "What do we want\n",
    "\n",
    "1. Namespaced targets `Kokkos::`\n",
    "2. Function to check at configure time that the Kokkos that was found has desirable properties\n",
    "3. ???"
   ]
  }
 ],
 "metadata": {
  "kernelspec": {
   "display_name": "Python 3",
   "language": "python",
   "name": "python3"
  },
  "language_info": {
   "codemirror_mode": {
    "name": "ipython",
    "version": 3
   },
   "file_extension": ".py",
   "mimetype": "text/x-python",
   "name": "python",
   "nbconvert_exporter": "python",
   "pygments_lexer": "ipython3",
   "version": "3.7.1"
  }
 },
 "nbformat": 4,
 "nbformat_minor": 2
}
