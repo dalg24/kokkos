{
 "cells": [
  {
   "cell_type": "markdown",
   "metadata": {
    "slideshow": {
     "livereveal": {
      "theme": "sky",
      "transition": "zoom"
     },
     "slide_type": "slide"
    }
   },
   "source": [
    "# CMake issues<br/> when depending on Kokkos\n",
    "\n",
    "Damien Lebrun-Grandié and Daniel Arndt  \n",
    "Oak Ridge National Laboratory"
   ]
  },
  {
   "cell_type": "markdown",
   "metadata": {
    "slideshow": {
     "slide_type": "slide"
    }
   },
   "source": [
    "# How to<br> find Kokkos as an external project<br> and load its setting\n",
    "\n",
    "\n",
    "* What are we trying to do?\n",
    "* How is it done today and what are the limits of the current practice?\n",
    "* What's different in the approach we suggest and why do we think it is better\n",
    "* Who cares?\n",
    "* What are the risks and the payoffs?\n"
   ]
  },
  {
   "cell_type": "markdown",
   "metadata": {
    "slideshow": {
     "slide_type": "slide"
    }
   },
   "source": [
    "`<target>` has been created by `add_library()` or `add_executable()`\n",
    "\n",
    "How to use say Boost.Serialization\n",
    "```CMake\n",
    "find_package(Boost COMPONENTS serialization)\n",
    "target_link_libraries(<target> Boost::serialization)\n",
    "```"
   ]
  },
  {
   "cell_type": "markdown",
   "metadata": {
    "slideshow": {
     "slide_type": "slide"
    }
   },
   "source": [
    "```C++\n",
    "// HelloWorld.cpp\n",
    "#include <Kokkos_Core.hpp>\n",
    "#include <cstdio>\n",
    "#include <typeinfo>\n",
    "\n",
    "int main(int &argc, char *argv[]) {\n",
    "    \n",
    "  Kokkos::initialize(argc, argv);\n",
    "    \n",
    "  printf(\"Hello World on Kokkos execution space %s\\n\",\n",
    "          typeid(Kokkos::DefaultExecutionSpace).name ());\n",
    "    \n",
    "  Kokkos::parallel_for(15, KOKKOS_LAMBDA (int i) {\n",
    "      printf(\"Hello from i = %i\\n\", i);\n",
    "    });\n",
    "    \n",
    "  Kokkos::finalize();\n",
    "}\n",
    "```"
   ]
  },
  {
   "cell_type": "markdown",
   "metadata": {
    "slideshow": {
     "slide_type": "fragment"
    }
   },
   "source": [
    "```CMake\n",
    "# CMakeLists.txt\n",
    "find_package(Kokkos)\n",
    "add_executable(hello.exe HelloWorld.cpp)\n",
    "target_link_libraries(hello.exe Kokkos::kokkos)\n",
    "```"
   ]
  },
  {
   "cell_type": "markdown",
   "metadata": {
    "slideshow": {
     "slide_type": "slide"
    },
    "toc-hr-collapsed": false
   },
   "source": [
    "## CMake crash course\n",
    "\n",
    "```CMake\n",
    "find_package(<PackageName> [version] [EXACT] [QUIET] [MODULE]\n",
    "             [REQUIRED] [[COMPONENTS] [components...]]\n",
    "             [OPTIONAL_COMPONENTS components...]\n",
    "             [NO_POLICY_SCOPE])\n",
    "```\n",
    "* `<PackageName>_FOUND` set to indicate whether the package was found or not  \n",
    "* package-specific information provided through variables and **imported targets**  \n",
    "* `REQUIRED` option stops processing with an error message if package cannot be found  \n",
    "* `[version]` argument requests a version with which the pacakge found should be compatible\n",
    "\n",
    "\n",
    "The command has two modes by which it searches for packages: \"Module\" mode and \"Config\" mode.  \n",
    "Above signature selects Module mode and falls back to Config mode (unless `MODULE` option present)\n"
   ]
  },
  {
   "cell_type": "markdown",
   "metadata": {
    "slideshow": {
     "slide_type": "subslide"
    }
   },
   "source": [
    "### Module mode,\n",
    "CMake searches for a file called `Find<PackageName>.cmake`.  \n",
    "If found, file is read and processed by CMake.  \n",
    "Responsible for finding the package, checking the version, and producing any needed messages."
   ]
  },
  {
   "cell_type": "markdown",
   "metadata": {
    "slideshow": {
     "slide_type": "fragment"
    }
   },
   "source": [
    "### Config mode  \n",
    "CMake searches for a file called `<PackageName>Config.cmake` or `<lower-case-package-name>-config.cmake`  \n",
    "once found configuration file read and processed by CMake"
   ]
  },
  {
   "cell_type": "markdown",
   "metadata": {
    "slideshow": {
     "slide_type": "slide"
    }
   },
   "source": [
    "# How to build Kokkos\n",
    "\n",
    "Kokkos can be installed via\n",
    "* generated makefile\n",
    "* CMake\n",
    "* TriBITS as part of Trilinos (not considered in this talk)"
   ]
  },
  {
   "cell_type": "markdown",
   "metadata": {
    "slideshow": {
     "slide_type": "subslide"
    }
   },
   "source": [
    "## Configure"
   ]
  },
  {
   "cell_type": "markdown",
   "metadata": {
    "slideshow": {
     "slide_type": "fragment"
    }
   },
   "source": [
    "* Using provided bash script that generates the makefile\n",
    "```bash\n",
    "<kokkos_path>/generate_makefile.bash \\\n",
    "  --prefix=<prefix> \\\n",
    "  --arch=Volta70,SNB \\\n",
    "  --with-serial \\\n",
    "  --with-openmp \\\n",
    "  --with-cuda \\\n",
    "  --with-cuda-options=enable_lambda\n",
    "```"
   ]
  },
  {
   "cell_type": "markdown",
   "metadata": {
    "slideshow": {
     "slide_type": "fragment"
    }
   },
   "source": [
    "* Or using CMake\n",
    "```bash\n",
    "cmake \\\n",
    "  -D CMAKE_INSTALL_PREFIX=<prefix> \\\n",
    "  -D KOKKOS_ARCH=\"Volta70;SNB\" \\\n",
    "  -D KOKKOS_ENABLE_SERIAL=ON \\\n",
    "  -D KOKKOS_ENABLE_OPENMP=ON \\\n",
    "  -D KOKKOS_ENABLE_CUDA=ON \\\n",
    "  -D KOKKOS_ENABLE_CUDA_LAMBDA=ON \\\n",
    "  -D CMAKE_CXX_COMPILER=<kokkos_path>/bin/nvcc_wrapper \\\n",
    "  -D CMAKE_BUILD_TYPE=Release \\\n",
    "  <kokkos_path>\n",
    "```"
   ]
  },
  {
   "cell_type": "markdown",
   "metadata": {
    "slideshow": {
     "slide_type": "subslide"
    }
   },
   "source": [
    "## Build and install"
   ]
  },
  {
   "cell_type": "markdown",
   "metadata": {
    "slideshow": {
     "slide_type": "fragment"
    }
   },
   "source": [
    "* As usual\n",
    "\n",
    "```bash\n",
    "make # or make -j<NPROCS>\n",
    "make install\n",
    "```"
   ]
  },
  {
   "cell_type": "markdown",
   "metadata": {
    "slideshow": {
     "slide_type": "slide"
    }
   },
   "source": [
    "# Does it matter if Kokkos was installed one way or the other?"
   ]
  },
  {
   "cell_type": "markdown",
   "metadata": {
    "slideshow": {
     "slide_type": "slide"
    }
   },
   "source": [
    "# Differences in content of install directories?"
   ]
  },
  {
   "cell_type": "markdown",
   "metadata": {
    "slideshow": {
     "slide_type": "subslide"
    }
   },
   "source": [
    "## Current master <a class=\"external-link\" href=\"https://github.com/kokkos/kokkos/tree/5d6e7fb38e96aec88d2c514e1f9be1cf2b549b57\">5d6e7f7</a> (tagged as 2.8.00)\n",
    "\n",
    "```diff\n",
    "diff --git a/install_tree_gmake b/install_tree_cmake\n",
    "index b9dae0a4..e7e934de 100644\n",
    "--- a/install_tree_gmake\n",
    "+++ b/install_tree_cmake\n",
    "@@ -1,7 +1,4 @@\n",
    " <prefix>\n",
    "-|-- Makefile.kokkos\n",
    "-|-- bin\n",
    "-|   `-- nvcc_wrapper\n",
    " |-- include\n",
    " |   |-- Cuda\n",
    " |   |   |-- KokkosExp_Cuda_IterateTile.hpp\n",
    "@@ -87,6 +84,52 @@\n",
    " |   |   |-- Kokkos_OpenMP_ViewCopyETIAvail.hpp\n",
    " |   |   |-- Kokkos_OpenMP_ViewCopyETIDecl.hpp\n",
    " |   |   `-- Kokkos_OpenMP_WorkGraphPolicy.hpp\n",
    "+|   |-- OpenMPTarget\n",
    "+|   |   |-- Kokkos_OpenMPTarget_Exec.hpp\n",
    "+|   |   |-- Kokkos_OpenMPTarget_Parallel.hpp\n",
    "+|   |   `-- Kokkos_OpenMPTarget_Task.hpp\n",
    "+|   |-- Qthreads\n",
    "+|   |   |-- Kokkos_QthreadsExec.hpp\n",
    "+|   |   |-- Kokkos_Qthreads_Parallel.hpp\n",
    "+|   |   |-- Kokkos_Qthreads_Task.hpp\n",
    "+|   |   |-- Kokkos_Qthreads_TaskQueue.hpp\n",
    "+|   |   `-- Kokkos_Qthreads_TaskQueue_impl.hpp\n",
    "+|   |-- ROCm\n",
    "+|   |   |-- KokkosExp_ROCm_IterateTile_Refactor.hpp\n",
    "+|   |   |-- Kokkos_ROCm_Atomic.hpp\n",
    "+|   |   |-- Kokkos_ROCm_Config.hpp\n",
    "+|   |   |-- Kokkos_ROCm_Exec.hpp\n",
    "+|   |   |-- Kokkos_ROCm_Invoke.hpp\n",
    "+|   |   |-- Kokkos_ROCm_Join.hpp\n",
    "+|   |   |-- Kokkos_ROCm_Parallel.hpp\n",
    "+|   |   |-- Kokkos_ROCm_Reduce.hpp\n",
    "+|   |   |-- Kokkos_ROCm_ReduceScan.hpp\n",
    "+|   |   |-- Kokkos_ROCm_Scan.hpp\n",
    "+|   |   |-- Kokkos_ROCm_Task.hpp\n",
    "+|   |   |-- Kokkos_ROCm_Tile.hpp\n",
    "+|   |   |-- Kokkos_ROCm_Vectorization.hpp\n",
    "+|   |   |-- Kokkos_ROCm_ViewCopyETIAvail.hpp\n",
    "+|   |   |-- Kokkos_ROCm_ViewCopyETIDecl.hpp\n",
    "+|   |   `-- hc_math_std.hpp\n",
    "+|   |-- Serial\n",
    "+|   |   |-- Kokkos_Serial_ViewCopyETIAvail.hpp\n",
    "+|   |   `-- Kokkos_Serial_ViewCopyETIDecl.hpp\n",
    "+|   |-- Threads\n",
    "+|   |   |-- Kokkos_ThreadsExec.hpp\n",
    "+|   |   |-- Kokkos_ThreadsTeam.hpp\n",
    "+|   |   |-- Kokkos_Threads_Parallel.hpp\n",
    "+|   |   |-- Kokkos_Threads_ViewCopyETIAvail.hpp\n",
    "+|   |   |-- Kokkos_Threads_ViewCopyETIDecl.hpp\n",
    "+|   |   `-- Kokkos_Threads_WorkGraphPolicy.hpp\n",
    "+|   |-- eti\n",
    "+|   |   |-- Cuda\n",
    "+|   |   |-- OpenMP\n",
    "+|   |   |-- ROCm\n",
    "+|   |   |-- Serial\n",
    "+|   |   |-- Threads\n",
    "+|   |   `-- common\n",
    "+|   |       |-- Kokkos_ViewFillCopyETIAvail_Macros.hpp\n",
    "+|   |       `-- Kokkos_ViewFillCopyETIDecl_Macros.hpp\n",
    " |   `-- impl\n",
    " |       |-- KokkosExp_Host_IterateTile.hpp\n",
    " |       |-- KokkosExp_ViewMapping.hpp\n",
    "@@ -143,8 +186,16 @@\n",
    " |       `-- Kokkos_Volatile_Load.hpp\n",
    " |-- kokkos_generated_settings.cmake\n",
    " `-- lib\n",
    "+    |-- CMake\n",
    "+    |   `-- Kokkos\n",
    "+    |       |-- KokkosConfig.cmake\n",
    "+    |       |-- KokkosTargets-noconfig.cmake\n",
    "+    |       `-- KokkosTargets.cmake\n",
    "+    |-- cmake\n",
    "+    |   `-- Kokkos\n",
    "+    |       `-- kokkos_generated_settings.cmake\n",
    "     |-- libkokkos.a\n",
    "     `-- pkgconfig\n",
    "         `-- kokkos.pc\n",
    "\n",
    "-7 directories, 140 files\n",
    "+22 directories, 176 files\n",
    "```"
   ]
  },
  {
   "cell_type": "markdown",
   "metadata": {
    "slideshow": {
     "slide_type": "subslide"
    }
   },
   "source": [
    "## Current develop <a class=\"external-link\" href=\"https://github.com/kokkos/kokkos/tree/e45bbefa878b5eb004f3110d52dd85ae3b9b0d48\">e45bbef</a>\n",
    "```diff\n",
    "diff --git a/install_tree_gmake b/install_tree_cmake\n",
    "index e9537c27..fc4c20e3 100644\n",
    "--- a/install_tree_gmake\n",
    "+++ b/install_tree_cmake\n",
    "@@ -1,7 +1,4 @@\n",
    " <prefix>\n",
    "-|-- Makefile.kokkos\n",
    "-|-- bin\n",
    "-|   `-- nvcc_wrapper\n",
    " |-- include\n",
    " |   |-- Cuda\n",
    " |   |   |-- KokkosExp_Cuda_IterateTile.hpp\n",
    "@@ -24,6 +21,11 @@\n",
    " |   |   |-- Kokkos_Cuda_ViewCopyETIDecl.hpp\n",
    " |   |   |-- Kokkos_Cuda_WorkGraphPolicy.hpp\n",
    " |   |   `-- Kokkos_Cuda_abort.hpp\n",
    "+|   |-- HPX\n",
    "+|   |   |-- Kokkos_HPX_Task.hpp\n",
    "+|   |   |-- Kokkos_HPX_ViewCopyETIAvail.hpp\n",
    "+|   |   |-- Kokkos_HPX_ViewCopyETIDecl.hpp\n",
    "+|   |   `-- Kokkos_HPX_WorkGraphPolicy.hpp\n",
    " |   |-- KokkosCore_config.h\n",
    " |   |-- KokkosExp_MDRangePolicy.hpp\n",
    " |   |-- Kokkos_AnonymousSpace.hpp\n",
    "@@ -93,6 +95,53 @@\n",
    " |   |   |-- Kokkos_OpenMP_ViewCopyETIAvail.hpp\n",
    " |   |   |-- Kokkos_OpenMP_ViewCopyETIDecl.hpp\n",
    " |   |   `-- Kokkos_OpenMP_WorkGraphPolicy.hpp\n",
    "+|   |-- OpenMPTarget\n",
    "+|   |   |-- Kokkos_OpenMPTarget_Exec.hpp\n",
    "+|   |   |-- Kokkos_OpenMPTarget_Parallel.hpp\n",
    "+|   |   `-- Kokkos_OpenMPTarget_Task.hpp\n",
    "+|   |-- Qthreads\n",
    "+|   |   |-- Kokkos_QthreadsExec.hpp\n",
    "+|   |   |-- Kokkos_Qthreads_Parallel.hpp\n",
    "+|   |   |-- Kokkos_Qthreads_Task.hpp\n",
    "+|   |   |-- Kokkos_Qthreads_TaskQueue.hpp\n",
    "+|   |   `-- Kokkos_Qthreads_TaskQueue_impl.hpp\n",
    "+|   |-- ROCm\n",
    "+|   |   |-- KokkosExp_ROCm_IterateTile_Refactor.hpp\n",
    "+|   |   |-- Kokkos_ROCm_Atomic.hpp\n",
    "+|   |   |-- Kokkos_ROCm_Config.hpp\n",
    "+|   |   |-- Kokkos_ROCm_Exec.hpp\n",
    "+|   |   |-- Kokkos_ROCm_Invoke.hpp\n",
    "+|   |   |-- Kokkos_ROCm_Join.hpp\n",
    "+|   |   |-- Kokkos_ROCm_Parallel.hpp\n",
    "+|   |   |-- Kokkos_ROCm_Reduce.hpp\n",
    "+|   |   |-- Kokkos_ROCm_ReduceScan.hpp\n",
    "+|   |   |-- Kokkos_ROCm_Scan.hpp\n",
    "+|   |   |-- Kokkos_ROCm_Task.hpp\n",
    "+|   |   |-- Kokkos_ROCm_Tile.hpp\n",
    "+|   |   |-- Kokkos_ROCm_Vectorization.hpp\n",
    "+|   |   |-- Kokkos_ROCm_ViewCopyETIAvail.hpp\n",
    "+|   |   |-- Kokkos_ROCm_ViewCopyETIDecl.hpp\n",
    "+|   |   `-- hc_math_std.hpp\n",
    "+|   |-- Serial\n",
    "+|   |   |-- Kokkos_Serial_ViewCopyETIAvail.hpp\n",
    "+|   |   `-- Kokkos_Serial_ViewCopyETIDecl.hpp\n",
    "+|   |-- Threads\n",
    "+|   |   |-- Kokkos_ThreadsExec.hpp\n",
    "+|   |   |-- Kokkos_ThreadsTeam.hpp\n",
    "+|   |   |-- Kokkos_Threads_Parallel.hpp\n",
    "+|   |   |-- Kokkos_Threads_ViewCopyETIAvail.hpp\n",
    "+|   |   |-- Kokkos_Threads_ViewCopyETIDecl.hpp\n",
    "+|   |   `-- Kokkos_Threads_WorkGraphPolicy.hpp\n",
    "+|   |-- eti\n",
    "+|   |   |-- Cuda\n",
    "+|   |   |-- HPX\n",
    "+|   |   |-- OpenMP\n",
    "+|   |   |-- ROCm\n",
    "+|   |   |-- Serial\n",
    "+|   |   |-- Threads\n",
    "+|   |   `-- common\n",
    "+|   |       |-- Kokkos_ViewFillCopyETIAvail_Macros.hpp\n",
    "+|   |       `-- Kokkos_ViewFillCopyETIDecl_Macros.hpp\n",
    " |   `-- impl\n",
    " |       |-- KokkosExp_Host_IterateTile.hpp\n",
    " |       |-- KokkosExp_ViewMapping.hpp\n",
    "@@ -170,8 +219,16 @@\n",
    " |       `-- Kokkos_Volatile_Load.hpp\n",
    " |-- kokkos_generated_settings.cmake\n",
    " `-- lib\n",
    "+    |-- CMake\n",
    "+    |   `-- Kokkos\n",
    "+    |       |-- KokkosConfig.cmake\n",
    "+    |       |-- KokkosTargets-noconfig.cmake\n",
    "+    |       `-- KokkosTargets.cmake\n",
    "+    |-- cmake\n",
    "+    |   `-- Kokkos\n",
    "+    |       `-- kokkos_generated_settings.cmake\n",
    "     |-- libkokkos.a\n",
    "     `-- pkgconfig\n",
    "         `-- kokkos.pc\n",
    "\n",
    "-7 directories, 167 files\n",
    "+24 directories, 207 files\n",
    "```"
   ]
  },
  {
   "cell_type": "markdown",
   "metadata": {
    "slideshow": {
     "slide_type": "subslide"
    }
   },
   "source": [
    "# A few observations"
   ]
  },
  {
   "cell_type": "markdown",
   "metadata": {
    "slideshow": {
     "slide_type": "fragment"
    }
   },
   "source": [
    "* CMake does not install `nvcc_wrapper`"
   ]
  },
  {
   "cell_type": "markdown",
   "metadata": {
    "slideshow": {
     "slide_type": "fragment"
    }
   },
   "source": [
    "* `<prefix>/lib/CMake/Kokkos/KokkosConfig.cmake` will not be discovered by CMake when `<prefix>` is added to `CMAKE_PREFIX_PATH`"
   ]
  },
  {
   "cell_type": "markdown",
   "metadata": {
    "slideshow": {
     "slide_type": "fragment"
    }
   },
   "source": [
    "* Duplicated `kokkos_generated_settings.cmake` both in `<prefix>` and in `<prefix>/cmake/Kokkos` is confusing"
   ]
  },
  {
   "cell_type": "markdown",
   "metadata": {
    "slideshow": {
     "slide_type": "subslide"
    }
   },
   "source": [
    "On UNIX platforms, CMake will constructs the following set of possible installation prefixes for the package\n",
    "\n",
    "`<prefix>/(lib/<arch>|lib*|share)/cmake/<name>*/`  \n",
    "`<prefix>/(lib/<arch>|lib*|share)/<name>*/`\n",
    "`<prefix>/(lib/<arch>|lib*|share)/<name>*/(cmake|CMake)/`  \n",
    "`<prefix>/<name>*/(lib/<arch>|lib*|share)/cmake/<name>*/`  \n",
    "`<prefix>/<name>*/(lib/<arch>|lib*|share)/<name>*/`  \n",
    "`<prefix>/<name>*/(lib/<arch>|lib*|share)/<name>*/(cmake|CMake)/`\n",
    "\n",
    "\n",
    "`<prefix>/lib/Kokkos/CMake/` will be searched, `<prefix>/lib/CMake/Kokkos` will not!!"
   ]
  },
  {
   "cell_type": "markdown",
   "metadata": {
    "slideshow": {
     "slide_type": "subslide"
    }
   },
   "source": [
    "Use the (undocumented) `CMAKE_FIND_DEBUG_MODE` to get a more verbose output\n",
    "```bash\n",
    "Checking prefix [<prefix>]\n",
    "Checking file [<prefix>/KokkosConfig.cmake]\n",
    "Checking file [<prefix>/kokkos-config.cmake]\n",
    "Checking file [<prefix>/kokkos_generated_settings.cmake/KokkosConfig.cmake]\n",
    "Checking file [<prefix>/kokkos_generated_settings.cmake/kokkos-config.cmake]\n",
    "Checking file [<prefix>/lib/cmake/Kokkos/KokkosConfig.cmake]\n",
    "Checking file [<prefix>/lib/cmake/Kokkos/kokkos-config.cmake]\n",
    "Checking prefix [/usr/local/nvidia/]\n",
    "Checking prefix [/usr/local/cuda/]\n",
    "Checking file [/usr/local/cuda/KokkosConfig.cmake]\n",
    "Checking file [/usr/local/cuda/kokkos-config.cmake]\n",
    "Checking prefix [/usr/local/]\n",
    "Checking file [/usr/local/KokkosConfig.cmake]\n",
    "Checking file [/usr/local/kokkos-config.cmake]\n",
    "Checking prefix [/usr/]\n",
    "Checking file [/usr/KokkosConfig.cmake]\n",
    "Checking file [/usr/kokkos-config.cmake]\n",
    "Checking prefix [/]\n",
    "Checking file [/KokkosConfig.cmake]\n",
    "Checking file [/kokkos-config.cmake]\n",
    "Checking prefix [/usr/X11R6/]\n",
    "Checking prefix [/usr/pkg/]\n",
    "Checking prefix [/opt/]\n",
    "Checking file [/opt/KokkosConfig.cmake]\n",
    "Checking file [/opt/kokkos-config.cmake]\n",
    "Checking file [/opt/kokkos/KokkosConfig.cmake]\n",
    "Checking file [/opt/kokkos/kokkos-config.cmake]\n",
    "Checking file [/opt/kokkos/lib/cmake/Kokkos/KokkosConfig.cmake]\n",
    "Checking file [/opt/kokkos/lib/cmake/Kokkos/kokkos-config.cmake]\n",
    "CMake Error at CMakeLists.txt:3 (find_package):\n",
    "  By not providing \"FindKokkos.cmake\" in CMAKE_MODULE_PATH this project has\n",
    "  asked CMake to find a package configuration file provided by \"Kokkos\", but\n",
    "  CMake did not find one.\n",
    "\n",
    "  Could not find a package configuration file provided by \"Kokkos\" with any\n",
    "  of the following names:\n",
    "\n",
    "    KokkosConfig.cmake\n",
    "    kokkos-config.cmake\n",
    "\n",
    "  Add the installation prefix of \"Kokkos\" to CMAKE_PREFIX_PATH or set\n",
    "  \"Kokkos_DIR\" to a directory containing one of the above files.  If \"Kokkos\"\n",
    "  provides a separate development package or SDK, be sure it has been\n",
    "  installed.\n",
    "\n",
    "\n",
    "-- Configuring incomplete, errors occurred!\n",
    "See also \"/scratch/build/CMakeFiles/CMakeOutput.log\".\n",
    "See also \"/scratch/build/CMakeFiles/CMakeError.log\".\n",
    "```"
   ]
  },
  {
   "cell_type": "markdown",
   "metadata": {
    "slideshow": {
     "slide_type": "slide"
    }
   },
   "source": [
    "# Differences in `kokkos_generated_settings.cmake`?"
   ]
  },
  {
   "cell_type": "markdown",
   "metadata": {
    "slideshow": {
     "slide_type": "subslide"
    }
   },
   "source": [
    "`Kokkos_generated_settings.cmake` sets a number of variables (44)\n",
    "\n",
    "`KOKKOS_PATH`\n",
    "`KOKKOS_GMAKE_DEVICES`\n",
    "`KOKKOS_GMAKE_ARCH`\n",
    "`KOKKOS_DEBUG_CMAKE`\n",
    "`KOKKOS_GMAKE_USE_TPLS`\n",
    "`KOKKOS_CXX_STANDARD`\n",
    "`KOKKOS_GMAKE_OPTIONS`\n",
    "`KOKKOS_GMAKE_CUDA_OPTIONS`\n",
    "`KOKKOS_GMAKE_TPL_INCLUDE_DIRS`\n",
    "`KOKKOS_GMAKE_TPL_LIBRARY_DIRS`\n",
    "`KOKKOS_GMAKE_TPL_LIBRARY_NAMES`\n",
    "`KOKKOS_HEADERS`\n",
    "`KOKKOS_HEADERS_IMPL`\n",
    "`KOKKOS_HEADERS_CUDA`\n",
    "`KOKKOS_HEADERS_OPENMP`\n",
    "`KOKKOS_HEADERS_HPX`\n",
    "`KOKKOS_HEADERS_ROCM`\n",
    "`KOKKOS_HEADERS_THREADS`\n",
    "`KOKKOS_HEADERS_QTHREADS`\n",
    "`KOKKOS_OS`\n",
    "`KOKKOS_CPP_DEPENDS`\n",
    "`KOKKOS_LINK_DEPENDS`\n",
    "`KOKKOS_CXXFLAGS`\n",
    "`KOKKOS_CPPFLAGS`\n",
    "`KOKKOS_LDFLAGS`\n",
    "`KOKKOS_CXXLDFLAGS`\n",
    "`KOKKOS_LIBS`\n",
    "`KOKKOS_EXTRA_LIBS`\n",
    "`KOKKOS_LINK_FLAGS`\n",
    "`KOKKOS_INTERNAL_USE_CUDA`\n",
    "`KOKKOS_INTERNAL_USE_OPENMP`\n",
    "`KOKKOS_INTERNAL_USE_HPX`\n",
    "`KOKKOS_INTERNAL_USE_PTHREADS`\n",
    "`KOKKOS_INTERNAL_USE_SERIAL`\n",
    "`KOKKOS_INTERNAL_USE_ROCM`\n",
    "`KOKKOS_INTERNAL_USE_HPX`\n",
    "`KOKKOS_INTERNAL_USE_QTHREADS`\n",
    "`KOKKOS_SRC`\n",
    "`KOKKOS_CXX_FLAGS`\n",
    "`KOKKOS_CPP_FLAGS`\n",
    "`KOKKOS_LD_FLAGS`\n",
    "`KOKKOS_LIBS_LIST`\n",
    "`KOKKOS_EXTRA_LIBS_LIST`\n",
    "`KOKKOS_LINK_FLAGS`"
   ]
  },
  {
   "cell_type": "markdown",
   "metadata": {
    "slideshow": {
     "slide_type": "subslide"
    }
   },
   "source": [
    "`KOKKOS_GMAKE_DEVICES`\n",
    "`KOKKOS_GMAKE_ARCH`\n",
    "`KOKKOS_GMAKE_OPTIONS`\n",
    "`KOKKOS_GMAKE_CUDA_OPTIONS`\n",
    "`KOKKOS_GMAKE_TPL_INCLUDE_DIRS`\n",
    "`KOKKOS_GMAKE_TPL_LIBRARY_DIRS`\n",
    "`KOKKOS_GMAKE_TPL_LIBRARY_NAMES`\n",
    "`KOKKOS_GMAKE_USE_TPLS`\n",
    "\n",
    "`KOKKOS_DEBUG_CMAKE`\n",
    "\n",
    "`KOKKOS_OS`\n",
    "`KOKKOS_PATH`\n",
    "\n",
    "`KOKKOS_HEADERS`\n",
    "`KOKKOS_HEADERS_IMPL`\n",
    "`KOKKOS_HEADERS_CUDA`\n",
    "`KOKKOS_HEADERS_OPENMP`\n",
    "`KOKKOS_HEADERS_HPX`\n",
    "`KOKKOS_HEADERS_ROCM`\n",
    "`KOKKOS_HEADERS_THREADS`\n",
    "`KOKKOS_HEADERS_QTHREADS`\n",
    "`KOKKOS_SRC`\n",
    "\n",
    "`KOKKOS_CPP_DEPENDS`\n",
    "`KOKKOS_LINK_DEPENDS`\n",
    "\n",
    "`KOKKOS_INTERNAL_USE_CUDA`\n",
    "`KOKKOS_INTERNAL_USE_OPENMP`\n",
    "`KOKKOS_INTERNAL_USE_HPX`\n",
    "`KOKKOS_INTERNAL_USE_PTHREADS`\n",
    "`KOKKOS_INTERNAL_USE_SERIAL`\n",
    "`KOKKOS_INTERNAL_USE_ROCM`\n",
    "`KOKKOS_INTERNAL_USE_HPX`\n",
    "`KOKKOS_INTERNAL_USE_QTHREADS`\n",
    "\n",
    "`KOKKOS_CXXFLAGS`\n",
    "`KOKKOS_CPPFLAGS`\n",
    "`KOKKOS_LDFLAGS`\n",
    "`KOKKOS_CXXLDFLAGS`\n",
    "`KOKKOS_LIBS`\n",
    "`KOKKOS_EXTRA_LIBS`\n",
    "`KOKKOS_LINK_FLAGS`\n",
    "\n",
    "`KOKKOS_CXX_FLAGS`\n",
    "`KOKKOS_CPP_FLAGS`\n",
    "`KOKKOS_LD_FLAGS`\n",
    "`KOKKOS_LIBS_LIST`\n",
    "`KOKKOS_EXTRA_LIBS_LIST`\n",
    "`KOKKOS_LINK_FLAGS`\n",
    "\n",
    "`KOKKOS_CXX_STANDARD`"
   ]
  },
  {
   "cell_type": "markdown",
   "metadata": {
    "slideshow": {
     "slide_type": "subslide"
    }
   },
   "source": [
    "## Current master <a class=\"external-link\" href=\"https://github.com/kokkos/kokkos/tree/5d6e7fb38e96aec88d2c514e1f9be1cf2b549b57\">5d6e7f7</a> (tagged as 2.8.00)\n",
    "\n",
    "```diff\n",
    "diff --git a/generated_settings_gmake b/generated_settings_cmake\n",
    "index 8ed290c9..d64a5337 100644\n",
    "--- a/generated_settings_gmake\n",
    "+++ b/generated_settings_cmake\n",
    "@@ -1,15 +1,15 @@\n",
    " #Global Settings used to generate this library\n",
    "-set(KOKKOS_PATH CACHE FILEPATH \"Kokkos installation path\" FORCE)\n",
    "-set(KOKKOS_GMAKE_DEVICES \"Serial,OpenMP,Cuda\" CACHE STRING \"Kokkos devices list\" FORCE)\n",
    "+set(KOKKOS_PATH /opt/kokkos CACHE FILEPATH \"Kokkos installation path\" FORCE)\n",
    "+set(KOKKOS_GMAKE_DEVICES \"Cuda,OpenMP,Serial\" CACHE STRING \"Kokkos devices list\" FORCE)\n",
    " set(KOKKOS_GMAKE_ARCH \"Volta70,SNB\" CACHE STRING \"Kokkos architecture flags\" FORCE)\n",
    "-set(KOKKOS_DEBUG_CMAKE OFF CACHE BOOL \"Kokkos debug enabled ?\" FORCE)\n",
    "-set(KOKKOS_GMAKE_USE_TPLS \"\" CACHE STRING \"Kokkos templates list\" FORCE)\n",
    "+set(KOKKOS_DEBUG_CMAKE ON CACHE BOOL \"Kokkos debug enabled ?\" FORCE)\n",
    "+set(KOKKOS_GMAKE_USE_TPLS \"librt\" CACHE STRING \"Kokkos templates list\" FORCE)\n",
    " set(KOKKOS_CXX_STANDARD c++11 CACHE STRING \"Kokkos C++ standard\" FORCE)\n",
    "-set(KOKKOS_GMAKE_OPTIONS \"\" CACHE STRING \"Kokkos options\" FORCE)\n",
    "+set(KOKKOS_GMAKE_OPTIONS \"disable_dualview_modify_check\" CACHE STRING \"Kokkos options\" FORCE)\n",
    " set(KOKKOS_GMAKE_CUDA_OPTIONS \"enable_lambda\" CACHE STRING \"Kokkos Cuda options\" FORCE)\n",
    " set(KOKKOS_GMAKE_TPL_INCLUDE_DIRS \" /usr/local/cuda/include\" CACHE STRING \"Kokkos TPL include directories\" FORCE)\n",
    " set(KOKKOS_GMAKE_TPL_LIBRARY_DIRS \" /usr/local/cuda/lib64\" CACHE STRING \"Kokkos TPL library directories\" FORCE)\n",
    "-set(KOKKOS_GMAKE_TPL_LIBRARY_NAMES \" dl cudart cuda\" CACHE STRING \"Kokkos TPL library names\" FORCE)\n",
    "+set(KOKKOS_GMAKE_TPL_LIBRARY_NAMES \" dl rt cudart cuda\" CACHE STRING \"Kokkos TPL library names\" FORCE)\n",
    " if(NOT DEFINED ENV{NVCC_WRAPPER})\n",
    " set(NVCC_WRAPPER /scratch/kokkos/bin/nvcc_wrapper CACHE FILEPATH \"Path to command nvcc_wrapper\" FORCE)\n",
    " else()\n",
    "@@ -17,10 +17,10 @@ else()\n",
    " endif()\n",
    "\n",
    " #Source and Header files of Kokkos relative to KOKKOS_PATH\n",
    "-set(KOKKOS_HEADERS /opt/kokkos/include/Kokkos_UniqueToken.hpp /opt/kokkos/include/Kokkos_NumericTraits.hpp /opt/kokkos/include/Kokkos_Timer.hpp /opt/kokkos/include/Kokkos_Pair.hpp /opt/kokkos/include/Kokkos_ExecPolicy.hpp /opt/kokkos/include/Kokkos_Macros.hpp /opt/kokkos/include/Kokkos_ScratchSpace.hpp /opt/kokkos/include/Kokkos_HBWSpace.hpp /opt/kokkos/include/Kokkos_ROCmSpace.hpp /opt/kokkos/include/Kokkos_ROCm.hpp /opt/kokkos/include/KokkosExp_MDRangePolicy.hpp /opt/kokkos/include/Kokkos_Atomic.hpp /opt/kokkos/include/Kokkos_MemoryPool.hpp /opt/kokkos/include/Kokkos_Threads.hpp /opt/kokkos/include/Kokkos_Layout.hpp /opt/kokkos/include/Kokkos_Serial.hpp /opt/kokkos/include/Kokkos_Qthreads.hpp /opt/kokkos/include/Kokkos_Crs.hpp /opt/kokkos/include/Kokkos_Parallel_Reduce.hpp /opt/kokkos/include/Kokkos_Parallel.hpp /opt/kokkos/include/Kokkos_Cuda.hpp /opt/kokkos/include/Kokkos_View.hpp /opt/kokkos/include/Kokkos_TaskPolicy.hpp /opt/kokkos/include/Kokkos_CudaSpace.hpp /opt/kokkos/include/Kokkos_Core.hpp /opt/kokkos/include/Kokkos_WorkGraphPolicy.hpp /opt/kokkos/include/Kokkos_Vectorization.hpp /opt/kokkos/include/Kokkos_OpenMP.hpp /opt/kokkos/include/Kokkos_hwloc.hpp /opt/kokkos/include/Kokkos_Array.hpp /opt/kokkos/include/Kokkos_MasterLock.hpp /opt/kokkos/include/Kokkos_OpenMPTargetSpace.hpp /opt/kokkos/include/Kokkos_Profiling_ProfileSection.hpp /opt/kokkos/include/Kokkos_CopyViews.hpp /opt/kokkos/include/Kokkos_OpenMPTarget.hpp /opt/kokkos/include/Kokkos_Core_fwd.hpp /opt/kokkos/include/Kokkos_Complex.hpp /opt/kokkos/include/Kokkos_HostSpace.hpp /opt/kokkos/include/Kokkos_Concepts.hpp /opt/kokkos/include/Kokkos_TaskScheduler.hpp /opt/kokkos/include/Kokkos_AnonymousSpace.hpp /opt/kokkos/include/Kokkos_MemoryTraits.hpp /opt/kokkos/include/impl/Kokkos_Timer.hpp /opt/kokkos/include/impl/Kokkos_Error.hpp /opt/kokkos/include/impl/Kokkos_ViewFillCopyETIDecl.hpp /opt/kokkos/include/impl/Kokkos_Traits.hpp /opt/kokkos/include/impl/Kokkos_ViewMapping.hpp /opt/kokkos/include/impl/Kokkos_Spinwait.hpp /opt/kokkos/include/impl/Kokkos_Atomic_Compare_Exchange_Strong.hpp /opt/kokkos/include/impl/Kokkos_AnalyzePolicy.hpp /opt/kokkos/include/impl/Kokkos_FunctorAdapter.hpp /opt/kokkos/include/impl/Kokkos_Volatile_Load.hpp /opt/kokkos/include/impl/Kokkos_FunctorAnalysis.hpp /opt/kokkos/include/impl/Kokkos_Atomic_Fetch_Add.hpp /opt/kokkos/include/impl/Kokkos_ViewFillCopyETIAvail.hpp /opt/kokkos/include/impl/Kokkos_Profiling_Interface.hpp /opt/kokkos/include/impl/Kokkos_ViewArray.hpp /opt/kokkos/include/impl/Kokkos_HostBarrier.hpp /opt/kokkos/include/impl/Kokkos_Atomic_Windows.hpp /opt/kokkos/include/impl/Kokkos_CPUDiscovery.hpp /opt/kokkos/include/impl/KokkosExp_Host_IterateTile.hpp /opt/kokkos/include/impl/Kokkos_Profiling_DeviceInfo.hpp /opt/kokkos/include/impl/Kokkos_SharedAlloc.hpp /opt/kokkos/include/impl/Kokkos_Atomic_Generic.hpp /opt/kokkos/include/impl/Kokkos_HostThreadTeam.hpp /opt/kokkos/include/impl/Kokkos_Atomic_Assembly.hpp /opt/kokkos/include/impl/Kokkos_ClockTic.hpp /opt/kokkos/include/impl/Kokkos_ViewTile.hpp /opt/kokkos/include/impl/Kokkos_Tags.hpp /opt/kokkos/include/impl/Kokkos_ConcurrentBitset.hpp /opt/kokkos/include/impl/Kokkos_Utilities.hpp /opt/kokkos/include/impl/Kokkos_Atomic_Increment.hpp /opt/kokkos/include/impl/Kokkos_Atomic_Decrement.hpp /opt/kokkos/include/impl/Kokkos_StaticAssert.hpp /opt/kokkos/include/impl/Kokkos_BitOps.hpp /opt/kokkos/include/impl/Kokkos_Memory_Fence.hpp /opt/kokkos/include/impl/KokkosExp_ViewMapping.hpp /opt/kokkos/include/impl/Kokkos_ViewUniformType.hpp /opt/kokkos/include/impl/Kokkos_OldMacros.hpp /opt/kokkos/include/impl/Kokkos_Atomic_Fetch_Or.hpp /opt/kokkos/include/impl/Kokkos_Atomic_Fetch_And.hpp /opt/kokkos/include/impl/Kokkos_TaskQueue_impl.hpp /opt/kokkos/include/impl/Kokkos_Atomic_Fetch_Sub.hpp /opt/kokkos/include/impl/Kokkos_Serial_WorkGraphPolicy.hpp /opt/kokkos/include/impl/Kokkos_TaskQueue.hpp /opt/kokkos/include/impl/Kokkos_Atomic_Exchange.hpp /opt/kokkos/include/impl/Kokkos_ViewLayoutTiled.hpp /opt/kokkos/include/impl/Kokkos_PhysicalLayout.hpp /opt/kokkos/include/impl/Kokkos_ViewCtor.hpp /opt/kokkos/include/impl/Kokkos_Atomic_View.hpp /opt/kokkos/include/impl/Kokkos_Serial_Task.hpp /opt/kokkos/include/Kokkos_Functional.hpp /opt/kokkos/include/Kokkos_StaticCrsGraph.hpp /opt/kokkos/include/Kokkos_ErrorReporter.hpp /opt/kokkos/include/Kokkos_OffsetView.hpp /opt/kokkos/include/Kokkos_DualView.hpp /opt/kokkos/include/Kokkos_Vector.hpp /opt/kokkos/include/Kokkos_ScatterView.hpp /opt/kokkos/include/Kokkos_Bitset.hpp /opt/kokkos/include/Kokkos_UnorderedMap.hpp /opt/kokkos/include/Kokkos_DynamicView.hpp /opt/kokkos/include/Kokkos_DynRankView.hpp /opt/kokkos/include/impl/Kokkos_StaticCrsGraph_factory.hpp /opt/kokkos/include/impl/Kokkos_Functional_impl.hpp /opt/kokkos/include/impl/Kokkos_Bitset_impl.hpp /opt/kokkos/include/impl/Kokkos_UnorderedMap_impl.hpp /opt/kokkos/include/Kokkos_Random.hpp /opt/kokkos/include/Kokkos_Sort.hpp /opt/kokkos/include/Cuda/Kokkos_Cuda_Task.hpp /opt/kokkos/include/Cuda/KokkosExp_Cuda_IterateTile.hpp /opt/kokkos/include/Cuda/Kokkos_Cuda_View.hpp /opt/kokkos/include/Cuda/Kokkos_CudaExec.hpp /opt/kokkos/include/Cuda/Kokkos_Cuda_Team.hpp /opt/kokkos/include/Cuda/Kokkos_Cuda_ViewCopyETIDecl.hpp /opt/kokkos/include/Cuda/Kokkos_Cuda_Version_9_8_Compatibility.hpp /opt/kokkos/include/Cuda/Kokkos_Cuda_UniqueToken.hpp /opt/kokkos/include/Cuda/Kokkos_Cuda_abort.hpp /opt/kokkos/include/Cuda/Kokkos_Cuda_Parallel.hpp /opt/kokkos/include/Cuda/Kokkos_Cuda_Locks.hpp /opt/kokkos/include/Cuda/Kokkos_Cuda_WorkGraphPolicy.hpp /opt/kokkos/include/Cuda/Kokkos_Cuda_ViewCopyETIAvail.hpp /opt/kokkos/include/Cuda/Kokkos_Cuda_Error.hpp /opt/kokkos/include/Cuda/Kokkos_Cuda_Vectorization.hpp /opt/kokkos/include/Cuda/KokkosExp_Cuda_IterateTile_Refactor.hpp /opt/kokkos/include/Cuda/Kokkos_Cuda_Alloc.hpp /opt/kokkos/include/Cuda/Kokkos_Cuda_ReduceScan.hpp /opt/kokkos/include/Cuda/Kokkos_Cuda_Internal.hpp /opt/kokkos/include/OpenMP/Kokkos_OpenMP_Task.hpp /opt/kokkos/include/OpenMP/Kokkos_OpenMP_Team.hpp /opt/kokkos/include/OpenMP/Kokkos_OpenMP_ViewCopyETIDecl.hpp /opt/kokkos/include/OpenMP/Kokkos_OpenMP_Parallel.hpp /opt/kokkos/include/OpenMP/Kokkos_OpenMP_WorkGraphPolicy.hpp /opt/kokkos/include/OpenMP/Kokkos_OpenMP_ViewCopyETIAvail.hpp /opt/kokkos/include/OpenMP/Kokkos_OpenMP_Exec.hpp CACHE STRING \"Kokkos headers list\" FORCE)\n",
    "+set(KOKKOS_HEADERS /opt/kokkos/include/Kokkos_Serial.hpp /opt/kokkos/include/Kokkos_ExecPolicy.hpp /opt/kokkos/include/Kokkos_OpenMPTargetSpace.hpp /opt/kokkos/include/Kokkos_OpenMPTarget.hpp /opt/kokkos/include/Kokkos_Macros.hpp /opt/kokkos/include/Kokkos_Qthreads.hpp /opt/kokkos/include/Kokkos_Core_fwd.hpp /opt/kokkos/include/Kokkos_Pair.hpp /opt/kokkos/include/Kokkos_UniqueToken.hpp /opt/kokkos/include/Kokkos_Profiling_ProfileSection.hpp /opt/kokkos/include/Kokkos_OpenMP.hpp /opt/kokkos/include/Kokkos_Vectorization.hpp /opt/kokkos/include/Kokkos_Atomic.hpp /opt/kokkos/include/Kokkos_Crs.hpp /opt/kokkos/include/Kokkos_CudaSpace.hpp /opt/kokkos/include/Kokkos_ScratchSpace.hpp /opt/kokkos/include/Kokkos_CopyViews.hpp /opt/kokkos/include/Kokkos_Parallel_Reduce.hpp /opt/kokkos/include/Kokkos_hwloc.hpp /opt/kokkos/include/Kokkos_ROCmSpace.hpp /opt/kokkos/include/Kokkos_Core.hpp /opt/kokkos/include/Kokkos_HBWSpace.hpp /opt/kokkos/include/Kokkos_TaskScheduler.hpp /opt/kokkos/include/Kokkos_Cuda.hpp /opt/kokkos/include/Kokkos_AnonymousSpace.hpp /opt/kokkos/include/KokkosExp_MDRangePolicy.hpp /opt/kokkos/include/Kokkos_Parallel.hpp /opt/kokkos/include/Kokkos_Complex.hpp /opt/kokkos/include/Kokkos_HostSpace.hpp /opt/kokkos/include/Kokkos_View.hpp /opt/kokkos/include/Kokkos_MasterLock.hpp /opt/kokkos/include/Kokkos_Concepts.hpp /opt/kokkos/include/Kokkos_MemoryPool.hpp /opt/kokkos/include/Kokkos_TaskPolicy.hpp /opt/kokkos/include/Kokkos_NumericTraits.hpp /opt/kokkos/include/Kokkos_Timer.hpp /opt/kokkos/include/Kokkos_WorkGraphPolicy.hpp /opt/kokkos/include/Kokkos_Array.hpp /opt/kokkos/include/Kokkos_Threads.hpp /opt/kokkos/include/Kokkos_Layout.hpp /opt/kokkos/include/Kokkos_ROCm.hpp /opt/kokkos/include/Kokkos_MemoryTraits.hpp /opt/kokkos/include/impl/Kokkos_ClockTic.hpp /opt/kokkos/include/impl/Kokkos_ViewLayoutTiled.hpp /opt/kokkos/include/impl/Kokkos_Profiling_DeviceInfo.hpp /opt/kokkos/include/impl/Kokkos_ViewTile.hpp /opt/kokkos/include/impl/Kokkos_ConcurrentBitset.hpp /opt/kokkos/include/impl/Kokkos_Atomic_Fetch_Sub.hpp /opt/kokkos/include/impl/Kokkos_Serial_Task.hpp /opt/kokkos/include/impl/Kokkos_Atomic_Windows.hpp /opt/kokkos/include/impl/Kokkos_HostThreadTeam.hpp /opt/kokkos/include/impl/Kokkos_FunctorAnalysis.hpp /opt/kokkos/include/impl/Kokkos_Atomic_Fetch_And.hpp /opt/kokkos/include/impl/KokkosExp_ViewMapping.hpp /opt/kokkos/include/impl/Kokkos_ViewFillCopyETIAvail.hpp /opt/kokkos/include/impl/Kokkos_SharedAlloc.hpp /opt/kokkos/include/impl/Kokkos_Volatile_Load.hpp /opt/kokkos/include/impl/Kokkos_Atomic_Fetch_Add.hpp /opt/kokkos/include/impl/Kokkos_Atomic_Generic.hpp /opt/kokkos/include/impl/Kokkos_Atomic_Compare_Exchange_Strong.hpp /opt/kokkos/include/impl/Kokkos_FunctorAdapter.hpp /opt/kokkos/include/impl/Kokkos_Serial_WorkGraphPolicy.hpp /opt/kokkos/include/impl/Kokkos_Atomic_Assembly.hpp /opt/kokkos/include/impl/Kokkos_ViewUniformType.hpp /opt/kokkos/include/impl/Kokkos_ViewCtor.hpp /opt/kokkos/include/impl/Kokkos_TaskQueue.hpp /opt/kokkos/include/impl/Kokkos_CPUDiscovery.hpp /opt/kokkos/include/impl/Kokkos_ViewArray.hpp /opt/kokkos/include/impl/Kokkos_PhysicalLayout.hpp /opt/kokkos/include/impl/Kokkos_HostBarrier.hpp /opt/kokkos/include/impl/Kokkos_Memory_Fence.hpp /opt/kokkos/include/impl/Kokkos_TaskQueue_impl.hpp /opt/kokkos/include/impl/Kokkos_Error.hpp /opt/kokkos/include/impl/Kokkos_Atomic_View.hpp /opt/kokkos/include/impl/Kokkos_Profiling_Interface.hpp /opt/kokkos/include/impl/Kokkos_Atomic_Exchange.hpp /opt/kokkos/include/impl/KokkosExp_Host_IterateTile.hpp /opt/kokkos/include/impl/Kokkos_OldMacros.hpp /opt/kokkos/include/impl/Kokkos_StaticAssert.hpp /opt/kokkos/include/impl/Kokkos_BitOps.hpp /opt/kokkos/include/impl/Kokkos_Traits.hpp /opt/kokkos/include/impl/Kokkos_Atomic_Increment.hpp /opt/kokkos/include/impl/Kokkos_Tags.hpp /opt/kokkos/include/impl/Kokkos_Timer.hpp /opt/kokkos/include/impl/Kokkos_Atomic_Decrement.hpp /opt/kokkos/include/impl/Kokkos_ViewMapping.hpp /opt/kokkos/include/impl/Kokkos_Spinwait.hpp /opt/kokkos/include/impl/Kokkos_Utilities.hpp /opt/kokkos/include/impl/Kokkos_AnalyzePolicy.hpp /opt/kokkos/include/impl/Kokkos_Atomic_Fetch_Or.hpp /opt/kokkos/include/impl/Kokkos_ViewFillCopyETIDecl.hpp /opt/kokkos/include/Kokkos_DynRankView.hpp /opt/kokkos/include/Kokkos_Vector.hpp /opt/kokkos/include/Kokkos_StaticCrsGraph.hpp /opt/kokkos/include/Kokkos_Functional.hpp /opt/kokkos/include/Kokkos_DualView.hpp /opt/kokkos/include/Kokkos_DynamicView.hpp /opt/kokkos/include/Kokkos_Bitset.hpp /opt/kokkos/include/Kokkos_UnorderedMap.hpp /opt/kokkos/include/Kokkos_ScatterView.hpp /opt/kokkos/include/Kokkos_ErrorReporter.hpp /opt/kokkos/include/Kokkos_OffsetView.hpp /opt/kokkos/include/impl/Kokkos_StaticCrsGraph_factory.hpp /opt/kokkos/include/impl/Kokkos_Functional_impl.hpp /opt/kokkos/include/impl/Kokkos_Bitset_impl.hpp /opt/kokkos/include/impl/Kokkos_UnorderedMap_impl.hpp /opt/kokkos/include/Kokkos_Random.hpp /opt/kokkos/include/Kokkos_Sort.hpp /opt/kokkos/include/Cuda/Kokkos_Cuda_WorkGraphPolicy.hpp /opt/kokkos/include/Cuda/Kokkos_CudaExec.hpp /opt/kokkos/include/Cuda/KokkosExp_Cuda_IterateTile.hpp /opt/kokkos/include/Cuda/Kokkos_Cuda_Team.hpp /opt/kokkos/include/Cuda/Kokkos_Cuda_Alloc.hpp /opt/kokkos/include/Cuda/Kokkos_Cuda_ViewCopyETIAvail.hpp /opt/kokkos/include/Cuda/Kokkos_Cuda_ViewCopyETIDecl.hpp /opt/kokkos/include/Cuda/Kokkos_Cuda_Version_9_8_Compatibility.hpp /opt/kokkos/include/Cuda/Kokkos_Cuda_UniqueToken.hpp /opt/kokkos/include/Cuda/Kokkos_Cuda_Task.hpp /opt/kokkos/include/Cuda/Kokkos_Cuda_abort.hpp /opt/kokkos/include/Cuda/Kokkos_Cuda_ReduceScan.hpp /opt/kokkos/include/Cuda/Kokkos_Cuda_Vectorization.hpp /opt/kokkos/include/Cuda/Kokkos_Cuda_Locks.hpp /opt/kokkos/include/Cuda/KokkosExp_Cuda_IterateTile_Refactor.hpp /opt/kokkos/include/Cuda/Kokkos_Cuda_Error.hpp /opt/kokkos/include/Cuda/Kokkos_Cuda_Parallel.hpp /opt/kokkos/include/Cuda/Kokkos_Cuda_View.hpp /opt/kokkos/include/Cuda/Kokkos_Cuda_Internal.hpp /opt/kokkos/include/OpenMP/Kokkos_OpenMP_Task.hpp /opt/kokkos/include/OpenMP/Kokkos_OpenMP_Exec.hpp /opt/kokkos/include/OpenMP/Kokkos_OpenMP_Parallel.hpp /opt/kokkos/include/OpenMP/Kokkos_OpenMP_WorkGraphPolicy.hpp /opt/kokkos/include/OpenMP/Kokkos_OpenMP_Team.hpp /opt/kokkos/include/OpenMP/Kokkos_OpenMP_ViewCopyETIAvail.hpp /opt/kokkos/include/OpenMP/Kokkos_OpenMP_ViewCopyETIDecl.hpp CACHE STRING \"Kokkos headers list\" FORCE)\n",
    " set(KOKKOS_HEADERS_IMPL CACHE STRING \"Kokkos headers impl list\" FORCE)\n",
    "-set(KOKKOS_HEADERS_CUDA /opt/kokkos/include/Cuda/Kokkos_Cuda_Task.hpp /opt/kokkos/include/Cuda/KokkosExp_Cuda_IterateTile.hpp /opt/kokkos/include/Cuda/Kokkos_Cuda_View.hpp /opt/kokkos/include/Cuda/Kokkos_CudaExec.hpp /opt/kokkos/include/Cuda/Kokkos_Cuda_Team.hpp /opt/kokkos/include/Cuda/Kokkos_Cuda_ViewCopyETIDecl.hpp /opt/kokkos/include/Cuda/Kokkos_Cuda_Version_9_8_Compatibility.hpp /opt/kokkos/include/Cuda/Kokkos_Cuda_UniqueToken.hpp /opt/kokkos/include/Cuda/Kokkos_Cuda_abort.hpp /opt/kokkos/include/Cuda/Kokkos_Cuda_Parallel.hpp /opt/kokkos/include/Cuda/Kokkos_Cuda_Locks.hpp /opt/kokkos/include/Cuda/Kokkos_Cuda_WorkGraphPolicy.hpp /opt/kokkos/include/Cuda/Kokkos_Cuda_ViewCopyETIAvail.hpp /opt/kokkos/include/Cuda/Kokkos_Cuda_Error.hpp /opt/kokkos/include/Cuda/Kokkos_Cuda_Vectorization.hpp /opt/kokkos/include/Cuda/KokkosExp_Cuda_IterateTile_Refactor.hpp /opt/kokkos/include/Cuda/Kokkos_Cuda_Alloc.hpp /opt/kokkos/include/Cuda/Kokkos_Cuda_ReduceScan.hpp /opt/kokkos/include/Cuda/Kokkos_Cuda_Internal.hpp CACHE STRING \"Kokkos headers Cuda list\" FORCE)\n",
    "-set(KOKKOS_HEADERS_OPENMP /opt/kokkos/include/OpenMP/Kokkos_OpenMP_Task.hpp /opt/kokkos/include/OpenMP/Kokkos_OpenMP_Team.hpp /opt/kokkos/include/OpenMP/Kokkos_OpenMP_ViewCopyETIDecl.hpp /opt/kokkos/include/OpenMP/Kokkos_OpenMP_Parallel.hpp /opt/kokkos/include/OpenMP/Kokkos_OpenMP_WorkGraphPolicy.hpp /opt/kokkos/include/OpenMP/Kokkos_OpenMP_ViewCopyETIAvail.hpp /opt/kokkos/include/OpenMP/Kokkos_OpenMP_Exec.hpp CACHE STRING \"Kokkos headers OpenMP list\" FORCE)\n",
    "+set(KOKKOS_HEADERS_CUDA /opt/kokkos/include/Cuda/Kokkos_Cuda_WorkGraphPolicy.hpp /opt/kokkos/include/Cuda/Kokkos_CudaExec.hpp /opt/kokkos/include/Cuda/KokkosExp_Cuda_IterateTile.hpp /opt/kokkos/include/Cuda/Kokkos_Cuda_Team.hpp /opt/kokkos/include/Cuda/Kokkos_Cuda_Alloc.hpp /opt/kokkos/include/Cuda/Kokkos_Cuda_ViewCopyETIAvail.hpp /opt/kokkos/include/Cuda/Kokkos_Cuda_ViewCopyETIDecl.hpp /opt/kokkos/include/Cuda/Kokkos_Cuda_Version_9_8_Compatibility.hpp /opt/kokkos/include/Cuda/Kokkos_Cuda_UniqueToken.hpp /opt/kokkos/include/Cuda/Kokkos_Cuda_Task.hpp /opt/kokkos/include/Cuda/Kokkos_Cuda_abort.hpp /opt/kokkos/include/Cuda/Kokkos_Cuda_ReduceScan.hpp /opt/kokkos/include/Cuda/Kokkos_Cuda_Vectorization.hpp /opt/kokkos/include/Cuda/Kokkos_Cuda_Locks.hpp /opt/kokkos/include/Cuda/KokkosExp_Cuda_IterateTile_Refactor.hpp /opt/kokkos/include/Cuda/Kokkos_Cuda_Error.hpp /opt/kokkos/include/Cuda/Kokkos_Cuda_Parallel.hpp /opt/kokkos/include/Cuda/Kokkos_Cuda_View.hpp /opt/kokkos/include/Cuda/Kokkos_Cuda_Internal.hpp CACHE STRING \"Kokkos headers Cuda list\" FORCE)\n",
    "+set(KOKKOS_HEADERS_OPENMP /opt/kokkos/include/OpenMP/Kokkos_OpenMP_Task.hpp /opt/kokkos/include/OpenMP/Kokkos_OpenMP_Exec.hpp /opt/kokkos/include/OpenMP/Kokkos_OpenMP_Parallel.hpp /opt/kokkos/include/OpenMP/Kokkos_OpenMP_WorkGraphPolicy.hpp /opt/kokkos/include/OpenMP/Kokkos_OpenMP_Team.hpp /opt/kokkos/include/OpenMP/Kokkos_OpenMP_ViewCopyETIAvail.hpp /opt/kokkos/include/OpenMP/Kokkos_OpenMP_ViewCopyETIDecl.hpp CACHE STRING \"Kokkos headers OpenMP list\" FORCE)\n",
    " set(KOKKOS_HEADERS_ROCM CACHE STRING \"Kokkos headers ROCm list\" FORCE)\n",
    " set(KOKKOS_HEADERS_THREADS CACHE STRING \"Kokkos headers Threads list\" FORCE)\n",
    " set(KOKKOS_HEADERS_QTHREADS CACHE STRING \"Kokkos headers QThreads list\" FORCE)\n",
    "@@ -29,12 +29,12 @@ set(KOKKOS_HEADERS_QTHREADS CACHE STRING \"Kokkos headers QThreads list\" FORCE)\n",
    " set(KOKKOS_OS Linux CACHE STRING \"\" FORCE)\n",
    " set(KOKKOS_CPP_DEPENDS KokkosCore_config.h /opt/kokkos/include/Kokkos_Serial.hpp /opt/kokkos/include/Kokkos_ExecPolicy.hpp /opt/kokkos/include/Kokkos_OpenMPTargetSpace.hpp /opt/kokkos/include/Kokkos_OpenMPTarget.hpp /opt/kokkos/include/Kokkos_Macros.hpp /opt/kokkos/include/Kokkos_Qthreads.hpp /opt/kokkos/include/Kokkos_Core_fwd.hpp /opt/kokkos/include/Kokkos_Pair.hpp /opt/kokkos/include/Kokkos_UniqueToken.hpp /opt/kokkos/include/Kokkos_Profiling_ProfileSection.hpp /opt/kokkos/include/Kokkos_OpenMP.hpp /opt/kokkos/include/Kokkos_Vectorization.hpp /opt/kokkos/include/Kokkos_Atomic.hpp /opt/kokkos/include/Kokkos_Crs.hpp /opt/kokkos/include/Kokkos_CudaSpace.hpp /opt/kokkos/include/Kokkos_ScratchSpace.hpp /opt/kokkos/include/Kokkos_CopyViews.hpp /opt/kokkos/include/Kokkos_Parallel_Reduce.hpp /opt/kokkos/include/Kokkos_hwloc.hpp /opt/kokkos/include/Kokkos_ROCmSpace.hpp /opt/kokkos/include/Kokkos_Core.hpp /opt/kokkos/include/Kokkos_HBWSpace.hpp /opt/kokkos/include/Kokkos_TaskScheduler.hpp /opt/kokkos/include/Kokkos_Cuda.hpp /opt/kokkos/include/Kokkos_AnonymousSpace.hpp /opt/kokkos/include/KokkosExp_MDRangePolicy.hpp /opt/kokkos/include/Kokkos_Parallel.hpp /opt/kokkos/include/Kokkos_Complex.hpp /opt/kokkos/include/Kokkos_HostSpace.hpp /opt/kokkos/include/Kokkos_View.hpp /opt/kokkos/include/Kokkos_MasterLock.hpp /opt/kokkos/include/Kokkos_Concepts.hpp /opt/kokkos/include/Kokkos_MemoryPool.hpp /opt/kokkos/include/Kokkos_TaskPolicy.hpp /opt/kokkos/include/Kokkos_NumericTraits.hpp /opt/kokkos/include/Kokkos_Timer.hpp /opt/kokkos/include/Kokkos_WorkGraphPolicy.hpp /opt/kokkos/include/Kokkos_Array.hpp /opt/kokkos/include/Kokkos_Threads.hpp /opt/kokkos/include/Kokkos_Layout.hpp /opt/kokkos/include/Kokkos_ROCm.hpp /opt/kokkos/include/Kokkos_MemoryTraits.hpp /opt/kokkos/include/impl/Kokkos_ClockTic.hpp /opt/kokkos/include/impl/Kokkos_ViewLayoutTiled.hpp /opt/kokkos/include/impl/Kokkos_Profiling_DeviceInfo.hpp /opt/kokkos/include/impl/Kokkos_ViewTile.hpp /opt/kokkos/include/impl/Kokkos_ConcurrentBitset.hpp /opt/kokkos/include/impl/Kokkos_Atomic_Fetch_Sub.hpp /opt/kokkos/include/impl/Kokkos_Serial_Task.hpp /opt/kokkos/include/impl/Kokkos_Atomic_Windows.hpp /opt/kokkos/include/impl/Kokkos_HostThreadTeam.hpp /opt/kokkos/include/impl/Kokkos_FunctorAnalysis.hpp /opt/kokkos/include/impl/Kokkos_Atomic_Fetch_And.hpp /opt/kokkos/include/impl/KokkosExp_ViewMapping.hpp /opt/kokkos/include/impl/Kokkos_ViewFillCopyETIAvail.hpp /opt/kokkos/include/impl/Kokkos_SharedAlloc.hpp /opt/kokkos/include/impl/Kokkos_Volatile_Load.hpp /opt/kokkos/include/impl/Kokkos_Atomic_Fetch_Add.hpp /opt/kokkos/include/impl/Kokkos_Atomic_Generic.hpp /opt/kokkos/include/impl/Kokkos_Atomic_Compare_Exchange_Strong.hpp /opt/kokkos/include/impl/Kokkos_FunctorAdapter.hpp /opt/kokkos/include/impl/Kokkos_Serial_WorkGraphPolicy.hpp /opt/kokkos/include/impl/Kokkos_Atomic_Assembly.hpp /opt/kokkos/include/impl/Kokkos_ViewUniformType.hpp /opt/kokkos/include/impl/Kokkos_ViewCtor.hpp /opt/kokkos/include/impl/Kokkos_TaskQueue.hpp /opt/kokkos/include/impl/Kokkos_CPUDiscovery.hpp /opt/kokkos/include/impl/Kokkos_ViewArray.hpp /opt/kokkos/include/impl/Kokkos_PhysicalLayout.hpp /opt/kokkos/include/impl/Kokkos_HostBarrier.hpp /opt/kokkos/include/impl/Kokkos_Memory_Fence.hpp /opt/kokkos/include/impl/Kokkos_TaskQueue_impl.hpp /opt/kokkos/include/impl/Kokkos_Error.hpp /opt/kokkos/include/impl/Kokkos_Atomic_View.hpp /opt/kokkos/include/impl/Kokkos_Profiling_Interface.hpp /opt/kokkos/include/impl/Kokkos_Atomic_Exchange.hpp /opt/kokkos/include/impl/KokkosExp_Host_IterateTile.hpp /opt/kokkos/include/impl/Kokkos_OldMacros.hpp /opt/kokkos/include/impl/Kokkos_StaticAssert.hpp /opt/kokkos/include/impl/Kokkos_BitOps.hpp /opt/kokkos/include/impl/Kokkos_Traits.hpp /opt/kokkos/include/impl/Kokkos_Atomic_Increment.hpp /opt/kokkos/include/impl/Kokkos_Tags.hpp /opt/kokkos/include/impl/Kokkos_Timer.hpp /opt/kokkos/include/impl/Kokkos_Atomic_Decrement.hpp /opt/kokkos/include/impl/Kokkos_ViewMapping.hpp /opt/kokkos/include/impl/Kokkos_Spinwait.hpp /opt/kokkos/include/impl/Kokkos_Utilities.hpp /opt/kokkos/include/impl/Kokkos_AnalyzePolicy.hpp /opt/kokkos/include/impl/Kokkos_Atomic_Fetch_Or.hpp /opt/kokkos/include/impl/Kokkos_ViewFillCopyETIDecl.hpp /opt/kokkos/include/Kokkos_DynRankView.hpp /opt/kokkos/include/Kokkos_Vector.hpp /opt/kokkos/include/Kokkos_StaticCrsGraph.hpp /opt/kokkos/include/Kokkos_Functional.hpp /opt/kokkos/include/Kokkos_DualView.hpp /opt/kokkos/include/Kokkos_DynamicView.hpp /opt/kokkos/include/Kokkos_Bitset.hpp /opt/kokkos/include/Kokkos_UnorderedMap.hpp /opt/kokkos/include/Kokkos_ScatterView.hpp /opt/kokkos/include/Kokkos_ErrorReporter.hpp /opt/kokkos/include/Kokkos_OffsetView.hpp /opt/kokkos/include/impl/Kokkos_StaticCrsGraph_factory.hpp /opt/kokkos/include/impl/Kokkos_Functional_impl.hpp /opt/kokkos/include/impl/Kokkos_Bitset_impl.hpp /opt/kokkos/include/impl/Kokkos_UnorderedMap_impl.hpp /opt/kokkos/include/Kokkos_Random.hpp /opt/kokkos/include/Kokkos_Sort.hpp /opt/kokkos/include/Cuda/Kokkos_Cuda_WorkGraphPolicy.hpp /opt/kokkos/include/Cuda/Kokkos_CudaExec.hpp /opt/kokkos/include/Cuda/KokkosExp_Cuda_IterateTile.hpp /opt/kokkos/include/Cuda/Kokkos_Cuda_Team.hpp /opt/kokkos/include/Cuda/Kokkos_Cuda_Alloc.hpp /opt/kokkos/include/Cuda/Kokkos_Cuda_ViewCopyETIAvail.hpp /opt/kokkos/include/Cuda/Kokkos_Cuda_ViewCopyETIDecl.hpp /opt/kokkos/include/Cuda/Kokkos_Cuda_Version_9_8_Compatibility.hpp /opt/kokkos/include/Cuda/Kokkos_Cuda_UniqueToken.hpp /opt/kokkos/include/Cuda/Kokkos_Cuda_Task.hpp /opt/kokkos/include/Cuda/Kokkos_Cuda_abort.hpp /opt/kokkos/include/Cuda/Kokkos_Cuda_ReduceScan.hpp /opt/kokkos/include/Cuda/Kokkos_Cuda_Vectorization.hpp /opt/kokkos/include/Cuda/Kokkos_Cuda_Locks.hpp /opt/kokkos/include/Cuda/KokkosExp_Cuda_IterateTile_Refactor.hpp /opt/kokkos/include/Cuda/Kokkos_Cuda_Error.hpp /opt/kokkos/include/Cuda/Kokkos_Cuda_Parallel.hpp /opt/kokkos/include/Cuda/Kokkos_Cuda_View.hpp /opt/kokkos/include/Cuda/Kokkos_Cuda_Internal.hpp /opt/kokkos/include/OpenMP/Kokkos_OpenMP_Task.hpp /opt/kokkos/include/OpenMP/Kokkos_OpenMP_Exec.hpp /opt/kokkos/include/OpenMP/Kokkos_OpenMP_Parallel.hpp /opt/kokkos/include/OpenMP/Kokkos_OpenMP_WorkGraphPolicy.hpp /opt/kokkos/include/OpenMP/Kokkos_OpenMP_Team.hpp /opt/kokkos/include/OpenMP/Kokkos_OpenMP_ViewCopyETIAvail.hpp /opt/kokkos/include/OpenMP/Kokkos_OpenMP_ViewCopyETIDecl.hpp CACHE STRING \"\" FORCE)\n",
    " set(KOKKOS_LINK_DEPENDS libkokkos.a CACHE STRING \"\" FORCE)\n",
    "-set(KOKKOS_CXXFLAGS -I./ -I/opt/kokkos/include -I/opt/kokkos/include -I/opt/kokkos/include -I/opt/kokkos/include/eti --std=c++11 -Xcudafe --diag_suppress=esa_on_defaulted_function_ignored -expt-extended-lambda -mavx -arch=sm_70 -I/usr/local/cuda/include -Xcompiler -fopenmp CACHE STRING \"\" FORCE)\n",
    "+set(KOKKOS_CXXFLAGS --std=c++11 -Xcudafe --diag_suppress=esa_on_defaulted_function_ignored -expt-extended-lambda -mavx -arch=sm_70 -Xcompiler -fopenmp CACHE STRING \"\" FORCE)\n",
    " set(KOKKOS_CPPFLAGS CACHE STRING \"\" FORCE)\n",
    "-set(KOKKOS_LDFLAGS -L/opt/kokkos/lib -mavx -arch=sm_70 -L/usr/local/cuda/lib64 -fopenmp CACHE STRING \"\" FORCE)\n",
    "-set(KOKKOS_CXXLDFLAGS -L/opt/kokkos/lib -L/usr/local/cuda/lib64 CACHE STRING \"\" FORCE)\n",
    "-set(KOKKOS_LIBS -lkokkos -ldl -lcudart -lcuda CACHE STRING \"\" FORCE)\n",
    "-set(KOKKOS_EXTRA_LIBS -ldl -lcudart -lcuda CACHE STRING \"\" FORCE)\n",
    "+set(KOKKOS_LDFLAGS -mavx -arch=sm_70 -L/usr/local/cuda/lib64 -fopenmp CACHE STRING \"\" FORCE)\n",
    "+set(KOKKOS_CXXLDFLAGS -L/usr/local/cuda/lib64 CACHE STRING \"\" FORCE)\n",
    "+set(KOKKOS_LIBS -lkokkos -ldl -lrt -lcudart -lcuda CACHE STRING \"\" FORCE)\n",
    "+set(KOKKOS_EXTRA_LIBS -ldl -lrt -lcudart -lcuda CACHE STRING \"\" FORCE)\n",
    " set(KOKKOS_LINK_FLAGS -fopenmp CACHE STRING \"extra flags to the link step (e.g. OpenMP)\" FORCE)\n",
    "\n",
    " #Internal settings which need to propagated for Kokkos examples\n",
    "@@ -45,9 +45,9 @@ set(KOKKOS_INTERNAL_USE_SERIAL 1 CACHE STRING \"\" FORCE)\n",
    " set(KOKKOS_INTERNAL_USE_ROCM 0 CACHE STRING \"\" FORCE)\n",
    " set(KOKKOS_INTERNAL_USE_QTHREADS 0 CACHE STRING \"\" FORCE)\n",
    " set(KOKKOS_SRC /scratch/kokkos/core/src/impl/Kokkos_Serial.cpp /scratch/kokkos/core/src/impl/Kokkos_ExecPolicy.cpp /scratch/kokkos/core/src/impl/Kokkos_HostThreadTeam.cpp /scratch/kokkos/core/src/impl/Kokkos_Serial_Task.cpp /scratch/kokkos/core/src/impl/Kokkos_SharedAlloc.cpp /scratch/kokkos/core/src/impl/Kokkos_Spinwait.cpp /scratch/kokkos/core/src/impl/Kokkos_Profiling_Interface.cpp /scratch/kokkos/core/src/impl/Kokkos_CPUDiscovery.cpp /scratch/kokkos/core/src/impl/Kokkos_hwloc.cpp /scratch/kokkos/core/src/impl/Kokkos_HostBarrier.cpp /scratch/kokkos/core/src/impl/Kokkos_Error.cpp /scratch/kokkos/core/src/impl/Kokkos_Core.cpp /scratch/kokkos/core/src/impl/Kokkos_HostSpace.cpp /scratch/kokkos/core/src/impl/Kokkos_MemoryPool.cpp /scratch/kokkos/containers/src/impl/Kokkos_UnorderedMap_impl.cpp /scratch/kokkos/core/src/Cuda/Kokkos_Cuda_Locks.cpp /scratch/kokkos/core/src/Cuda/Kokkos_CudaSpace.cpp /scratch/kokkos/core/src/Cuda/Kokkos_Cuda_Task.cpp /scratch/kokkos/core/src/Cuda/Kokkos_Cuda_Impl.cpp /scratch/kokkos/core/src/OpenMP/Kokkos_OpenMP_Task.cpp /scratch/kokkos/core/src/OpenMP/Kokkos_OpenMP_Exec.cpp CACHE STRING \"Kokkos source list\" FORCE)\n",
    "-set(KOKKOS_CXX_FLAGS -I./ -I/scratch/kokkos/core/src -I/scratch/kokkos/containers/src -I/scratch/kokkos/algorithms/src -I/scratch/kokkos/core/src/eti --std=c++11 -Xcudafe --diag_suppress=esa_on_defaulted_function_ignored -expt-extended-lambda -mavx -arch=sm_70 -I/usr/local/cuda/include -Xcompiler -fopenmp)\n",
    "+set(KOKKOS_CXX_FLAGS --std=c++11 -Xcudafe --diag_suppress=esa_on_defaulted_function_ignored -expt-extended-lambda -mavx -arch=sm_70 -Xcompiler -fopenmp)\n",
    " set(KOKKOS_CPP_FLAGS )\n",
    "-set(KOKKOS_LD_FLAGS -L/scratch/kokkos/build/core -mavx -arch=sm_70 -L/usr/local/cuda/lib64 -fopenmp)\n",
    "-set(KOKKOS_LIBS_LIST \"-lkokkos -ldl -lcudart -lcuda\")\n",
    "-set(KOKKOS_EXTRA_LIBS_LIST \"-ldl -lcudart -lcuda\")\n",
    "+set(KOKKOS_LD_FLAGS -mavx -arch=sm_70 -L/usr/local/cuda/lib64 -fopenmp)\n",
    "+set(KOKKOS_LIBS_LIST \"-lkokkos -ldl -lrt -lcudart -lcuda\")\n",
    "+set(KOKKOS_EXTRA_LIBS_LIST \"-ldl -lrt -lcudart -lcuda\")\n",
    " set(KOKKOS_LINK_FLAGS -fopenmp)\n",
    "```"
   ]
  },
  {
   "cell_type": "markdown",
   "metadata": {
    "slideshow": {
     "slide_type": "subslide"
    }
   },
   "source": [
    "# TL;DR\n",
    "\n",
    "But we explicitly configured with `-D CMAKE_BUILD_TYPE=Release`!?\n",
    "\n",
    "(If we didn't specify anything empty which yields no debug nor optimization flags will be used)\n",
    "\n",
    "`-D KOKKOS_ENABLE_DEBUG=<ON|OFF>`???"
   ]
  },
  {
   "cell_type": "markdown",
   "metadata": {
    "slideshow": {
     "slide_type": "subslide"
    }
   },
   "source": [
    "`KOKKOS_CXX_FLAGS` has include directories when installed with generated makefile\n",
    "\n",
    "What about `KOKKOS_CXX_STANDARD`?  `\"c++11\"`  \n",
    "Supported values for `CMAKE_CXX_STANDARD` are `98`, `11`, `14`, `17`, and `20`"
   ]
  },
  {
   "cell_type": "markdown",
   "metadata": {},
   "source": [
    "* Duplicated `KOKKOS_LINK_FLAGS`\n",
    "\n",
    "* `KOKKOS_CXXFLAGS`\n",
    "`KOKKOS_CPPFLAGS`\n",
    "`KOKKOS_LDFLAGS`\n",
    "`KOKKOS_CXXLDFLAGS`\n",
    " next to \n",
    "`KOKKOS_CXX_FLAGS`\n",
    "`KOKKOS_CPP_FLAGS`\n",
    "`KOKKOS_LD_FLAGS`\n",
    "\n",
    "* Not following CMake convention `<PakageName>_`\n"
   ]
  },
  {
   "cell_type": "markdown",
   "metadata": {
    "slideshow": {
     "slide_type": "slide"
    }
   },
   "source": [
    "# What about targets?"
   ]
  },
  {
   "cell_type": "markdown",
   "metadata": {
    "slideshow": {
     "slide_type": "subslide"
    }
   },
   "source": [
    "* CMake defines a `kokkos` target (case sensitive!)"
   ]
  },
  {
   "cell_type": "markdown",
   "metadata": {
    "slideshow": {
     "slide_type": "fragment"
    }
   },
   "source": [
    "* You are on your own if you installed using a generated makefile"
   ]
  },
  {
   "cell_type": "markdown",
   "metadata": {
    "slideshow": {
     "slide_type": "slide"
    }
   },
   "source": [
    "# How to find Kokkos and load its settings"
   ]
  },
  {
   "cell_type": "markdown",
   "metadata": {
    "slideshow": {
     "slide_type": "subslide"
    }
   },
   "source": [
    "Essentially two options\n",
    "* Either use what's already there (exported target from Kokkos built using CMake)\n",
    "* Or do it yourself (find Kokkos module)"
   ]
  },
  {
   "cell_type": "markdown",
   "metadata": {
    "slideshow": {
     "slide_type": "slide"
    }
   },
   "source": [
    "## OPTION A: Use configuration exported by CMake build "
   ]
  },
  {
   "cell_type": "markdown",
   "metadata": {},
   "source": [
    "```CMake\n",
    "find_package(Kokkos REQUIRED)\n",
    "target_link_libraries(<target> kokkos) # case sensitive (k)okkos\n",
    "target_include_directories(<target> PUBLIC ${Kokkos_INCLUDE_DIRS}) \n",
    "```"
   ]
  },
  {
   "cell_type": "markdown",
   "metadata": {
    "slideshow": {
     "slide_type": "fragment"
    }
   },
   "source": [
    "### Caevats\n",
    "* need to add `<prefix>/lib/CMake/Kokkos` to `CMAKE_PATH_PREFIX`"
   ]
  },
  {
   "cell_type": "markdown",
   "metadata": {
    "slideshow": {
     "slide_type": "fragment"
    }
   },
   "source": [
    "* tell your users they have to build Kokkos using cmake"
   ]
  },
  {
   "cell_type": "markdown",
   "metadata": {
    "slideshow": {
     "slide_type": "slide"
    }
   },
   "source": [
    "## OPTION B: Write and maintain a Find Module\n",
    "\n",
    "Write a \"find module\", i.e. a `FindKokkos.cmake` file to be loaded by `find_package()` when invoked for `Kokkos`"
   ]
  },
  {
   "cell_type": "markdown",
   "metadata": {
    "slideshow": {
     "slide_type": "fragment"
    }
   },
   "source": [
    "* Traditional approach is to use variables for everything, including libraries and executables\n",
    "\n",
    "`Kokkos_FOUND`\n",
    "`Kokkos_INCLUDE_DIRS`\n",
    "`Kokkos_LIBRARIES`\n",
    "`Kokkos_DEFINITIONS`\n",
    "`Kokkos_LIBRARY_DIRS`\n",
    "`Kokkos_VERSION`\n",
    "\n",
    "`Kokkos_NVCC_WRAPPER_EXECTUABLE`"
   ]
  },
  {
   "cell_type": "markdown",
   "metadata": {
    "slideshow": {
     "slide_type": "fragment"
    }
   },
   "source": [
    "* More modern approach is to behave as much like config file packages files as possible, by providing **imported target**.  \n",
    "This has the advantage of propagating transitive usage requirements to consumers."
   ]
  },
  {
   "cell_type": "markdown",
   "metadata": {},
   "source": [
    "May use cache variables for users to edit and control the behaviour of the find module\n",
    "\n",
    "May provide functions or macros"
   ]
  },
  {
   "cell_type": "markdown",
   "metadata": {
    "slideshow": {
     "slide_type": "subslide"
    }
   },
   "source": [
    "## Find the Kokkos library\n",
    "\n",
    "Try to use `pkg-config` to find the library since it is currently available for Kokkos\n",
    "\n",
    "```CMake\n",
    "find_package(PkgConfig)\n",
    "pkg_check_modules(PC_Kokkos QUIET kokkos)\n",
    "```\n",
    "This will define some variables starting `PC_Kokkos_` that contain the information from the `kokkos.pc` file\n"
   ]
  },
  {
   "cell_type": "markdown",
   "metadata": {
    "slideshow": {
     "slide_type": "subslide"
    }
   },
   "source": [
    "Use the information from `pkg-config` to provide hints to CMake about where to look\n",
    "```CMake\n",
    "find_path(Kokkos_INCLUDE_DIR\n",
    "  NAMES Kokkos_Core.hpp\n",
    "  PATHS ${PC_Kokkos_INCLUDE_DIRS}\n",
    ")\n",
    "\n",
    "find_library(Kokkos_LIBRARY\n",
    "  NAMES kokkos\n",
    "  PATHS ${PC_Kokkos_LIBRARY_DIRS}\n",
    ")\n",
    "```\n"
   ]
  },
  {
   "cell_type": "markdown",
   "metadata": {
    "slideshow": {
     "slide_type": "fragment"
    }
   },
   "source": [
    "Get the version somehow...\n",
    "```CMake\n",
    "set(Kokkos_VERSION ${PC_Kokkos_VERSION}) # not currently defined in kokkos.pc\n",
    "```"
   ]
  },
  {
   "cell_type": "markdown",
   "metadata": {
    "slideshow": {
     "slide_type": "subslide"
    }
   },
   "source": [
    "Use `FindPackageHandleStandardArgs` to do most of the rest of the work\n",
    "```CMake\n",
    "include(FindPackageHandleStandardArgs)\n",
    "find_package_handle_standard_args(Kokkos\n",
    "  FOUND_VAR Kokkos_FOUND\n",
    "  REQUIRED_VARS\n",
    "    Kokkos_LIBRARY\n",
    "    Kokkos_INCLUDE_DIR\n",
    "  VERSION_VAR Kokkos_VERSION \n",
    ")\n",
    "```"
   ]
  },
  {
   "cell_type": "markdown",
   "metadata": {
    "slideshow": {
     "slide_type": "subslide"
    }
   },
   "source": [
    "## Provide a way for users of the find module to link to Kokkos\n",
    "\n",
    "Traditional variable approach looks like\n",
    "```CMake\n",
    "if(Kokkos_FOUND)\n",
    "  set(Kokkos_LIBRARIES ${Kokkos_LIBRARY})\n",
    "  set(Kokkos_INCLUDE_DIRS ${Kokkos_INCLUDE_DIR})\n",
    "  set(Kokkos_DEFINITIONS ${PC_Kokkos_CFLAGS_OTHER})\n",
    "endif()\n",
    "```\n",
    "\n",
    "Modern approach is\n",
    "```CMake\n",
    "if(Kokkos_FOUND AND NOT TARGET Kokkos::Kokkos)\n",
    "  add_library(Kokkos::Kokkos UNKNOWN IMPORTED)  \n",
    "  set_target_properties(Kokkos::Kokkos PROPERTIES\n",
    "    IMPORTED_LOCATION \"${Kokkos_LIBRARY}\"\n",
    "    INTERFACE_COMPILE_OPTIONS \"${PC_Kokkos_CFLAGS_OTHER}\"\n",
    "    INTERFACE_INCLUDE_DIRECTORIES \"${Kokkos_INCLUDE_DIR}\"\n",
    "  )\n",
    "endif()\n",
    "```\n",
    "\n",
    "When providing imported target, these should be namespaced (note the `Kokkos::` prefix)  \n",
    "CMake will recognize that values passed to `target_link_libraries()` that contain `::` in their name are supposed to be imported targets (rather than just library names), and will produce appropriate diagnostic messages if that target does not exist "
   ]
  },
  {
   "cell_type": "markdown",
   "metadata": {
    "slideshow": {
     "slide_type": "subslide"
    }
   },
   "source": [
    "```CMake\n",
    "#[=======================================================================[.rst:\n",
    "FindKokkos\n",
    "-------\n",
    "\n",
    "Finds the Kokkos library.\n",
    "\n",
    "Imported Targets\n",
    "^^^^^^^^^^^^^^^^\n",
    "\n",
    "This module provides the following imported targets, if found:\n",
    "\n",
    "``Kokkos::Kokkos``\n",
    "  The Kokkos library\n",
    "\n",
    "Result Variables\n",
    "^^^^^^^^^^^^^^^^\n",
    "\n",
    "This will define the following variables:\n",
    "\n",
    "``Kokkos_FOUND``\n",
    "  True if the system has the Kokkos library.\n",
    "``Kokkos_VERSION``\n",
    "  The version of the Kokkos library which was found.\n",
    "``Kokkos_INCLUDE_DIRS``\n",
    "  Include directories needed to use Kokkos.\n",
    "``Kokkos_LIBRARIES``\n",
    "  Libraries needed to link to Kokkos.\n",
    "\n",
    "Cache Variables\n",
    "^^^^^^^^^^^^^^^\n",
    "\n",
    "The following cache variables may also be set:\n",
    "\n",
    "``Kokkos_INCLUDE_DIR``\n",
    "  The directory containing ``Kokkos_Core.hpp``.\n",
    "``Kokkos_LIBRARY``\n",
    "  The path to the Kokkos library.\n",
    "\n",
    "#]=======================================================================]\n",
    "\n",
    "find_package(PkgConfig)\n",
    "pkg_check_modules(PC_Kokkos QUIET kokkos)\n",
    "\n",
    "find_path(Kokkos_INCLUDE_DIR\n",
    "  NAMES Kokkos_Core.hpp\n",
    "  PATHS ${PC_Kokkos_INCLUDE_DIRS}\n",
    ")\n",
    "find_library(Kokkos_LIBRARY\n",
    "  NAMES kokkos\n",
    "  PATHS ${PC_Kokkos_LIBRARY_DIRS}\n",
    ")\n",
    "\n",
    "set(Kokkos_VERSION ${PC_Kokkos_VERSION})\n",
    "\n",
    "include(FindPackageHandleStandardArgs)\n",
    "find_package_handle_standard_args(Kokkos\n",
    "  FOUND_VAR Kokkos_FOUND\n",
    "  REQUIRED_VARS\n",
    "    Kokkos_LIBRARY\n",
    "    Kokkos_INCLUDE_DIR\n",
    "  VERSION_VAR Kokkos_VERSION \n",
    ")\n",
    "\n",
    "if(Kokkos_FOUND)\n",
    "  set(Kokkos_LIBRARIES ${Kokkos_LIBRARY})\n",
    "  set(Kokkos_INCLUDE_DIRS ${Kokkos_INCLUDE_DIR})\n",
    "  set(Kokkos_DEFINITIONS ${PC_Kokkos_CFLAGS_OTHER})\n",
    "endif()\n",
    "\n",
    "if(Kokkos_FOUND AND NOT TARGET Kokkos::Kokkos)\n",
    "  add_library(Kokkos::Kokkos UNKNOWN IMPORTED)  \n",
    "  set_target_properties(Kokkos::Kokkos PROPERTIES\n",
    "    IMPORTED_LOCATION \"${Kokkos_LIBRARY}\"\n",
    "    INTERFACE_COMPILE_OPTIONS \"${PC_Kokkos_CFLAGS_OTHER}\" # !!!!\n",
    "    INTERFACE_INCLUDE_DIRECTORIES \"${Kokkos_INCLUDE_DIR}\"\n",
    "  )\n",
    "endif()\n",
    "\n",
    "mark_as_advanced(\n",
    "  Kokkos_INCLUDE_DIR\n",
    "  Kokkos_LIBRARY\n",
    ")\n",
    "```"
   ]
  },
  {
   "cell_type": "markdown",
   "metadata": {
    "slideshow": {
     "slide_type": "slide"
    }
   },
   "source": [
    "## OPTION C: Let pkg-config create an imported target?"
   ]
  },
  {
   "cell_type": "markdown",
   "metadata": {
    "slideshow": {
     "slide_type": "fragment"
    }
   },
   "source": [
    "```CMake\n",
    "find_package(PkgConfig REQUIRED)\n",
    "pkg_check_modules(PC_Kokkos REQUIRED IMPORTED_TARGET kokkos)\n",
    "target_link_libraries(<target> PkgConfig::PC_Kokkos)\n",
    "target_link_libraries(<target> ${PC_Kokkos_LDFLAGS}) # sigh...\n",
    "```"
   ]
  },
  {
   "cell_type": "markdown",
   "metadata": {
    "slideshow": {
     "slide_type": "slide"
    }
   },
   "source": [
    "# Have Kokkos always export its target?\n",
    "\n",
    "# What are the risks and the payoffs?\n",
    "\n",
    "\n",
    "Break everybody's working build system"
   ]
  },
  {
   "cell_type": "markdown",
   "metadata": {
    "slideshow": {
     "slide_type": "subslide"
    }
   },
   "source": [
    "```cmake\n",
    "find_package(Kokkos REQUIRED)\n",
    "target_link_libraries(<target> Kokkos::kokkos)\n",
    "```\n",
    "\n"
   ]
  },
  {
   "cell_type": "markdown",
   "metadata": {
    "slideshow": {
     "slide_type": "slide"
    }
   },
   "source": [
    "# NONAME\n",
    "\n",
    "Every project that uses Kokkos write its own `FindKokkos.cmake`?"
   ]
  },
  {
   "cell_type": "markdown",
   "metadata": {
    "slideshow": {
     "slide_type": "slide"
    }
   },
   "source": [
    "```CMake\n",
    "#[=======================================================================[.rst:\n",
    "\n",
    "This function makes sure that kokkos was built with the requested backends\n",
    "and target architectures and generates a fatal error if it was not.\n",
    "\n",
    "kokkos_check_requested(\n",
    "  [DEVICES <devices>...] # Set of backends (e.g. \"OpenMP\" and/or \"Cuda\")\n",
    "  [ARCH <archs>...]      # Target architectures (e.g. \"Power9\" and/or \"Volta70\")\n",
    ")\n",
    "#]=======================================================================]\n",
    "function(kokkos_check_requested)\n",
    "  cmake_parse_arguments(_KOKKOS_REQUESTED \"\" \"\" \"DEVICES;ARCH\" ${ARGN})\n",
    "  set(_KOKKOS_REQUESTED_ARGS)\n",
    "  foreach(_X DEVICES ARCH)\n",
    "    if(_KOKKOS_REQUESTED_${_X})\n",
    "      list(APPEND _KOKKOS_REQUESTED_ARGS ${_X})\n",
    "    endif()\n",
    "  endforeach()\n",
    "  set(_KOKKOS_CHECK_REQUESTED_SUCCESS TRUE)\n",
    "  foreach(_X ${_KOKKOS_REQUESTED_ARGS})\n",
    "    foreach(_requested ${_KOKKOS_REQUESTED_${_X}})\n",
    "      foreach(_provided ${KOKKOS_${_X}})\n",
    "        if(_requested STREQUAL _provided)\n",
    "          string(REPLACE \";\" \" \" ${_requested} \"${_KOKKOS_REQUESTED_${_X}}\")\n",
    "        endif()\n",
    "      endforeach()\n",
    "    endforeach()\n",
    "    find_package_handle_standard_args(\"KOKKOS_${_X}\" DEFAULT_MSG ${_KOKKOS_REQUESTED_${_X}})\n",
    "    if(NOT KOKKOS_${_X}_FOUND)\n",
    "      set(_KOKKOS_CHECK_REQUESTED_SUCCESS FALSE)\n",
    "    endif()\n",
    "  endforeach()\n",
    "  if(NOT _KOKKOS_CHECK_REQUESTED_SUCCESS)\n",
    "    message(FATAL_ERROR \"Kokkos does NOT provide all backends and/or architectures requested\")\n",
    "  endif()\n",
    "endfunction()\n",
    "```"
   ]
  },
  {
   "cell_type": "markdown",
   "metadata": {
    "slideshow": {
     "slide_type": "slide"
    }
   },
   "source": [
    "# Summary\n",
    "\n",
    "What do we want\n",
    "\n",
    "1. Install a new package configuration file `<prefix>/lib/cmake/kokkos-config.cmake` \n",
    "2. Export namespaced targets `Kokkos::kokkos` alongside the pre-existing one to avoid breaking everybody's code\n",
    "3. Inject deprecation warning in `<prefix>/lib/CMake/Kokkos/KokkosConfig.cmake` (?)\n",
    "4. Function to check at configure time that the Kokkos that was found has desirable properties\n",
    "5. Consider providing a `FindKokkos.cmake` module that provide similar functionality for backwards compatibility (?)"
   ]
  },
  {
   "cell_type": "markdown",
   "metadata": {},
   "source": [
    "Broken with clang"
   ]
  }
 ],
 "metadata": {
  "celltoolbar": "Edit Metadata",
  "kernelspec": {
   "display_name": "Python 3",
   "language": "python",
   "name": "python3"
  },
  "language_info": {
   "codemirror_mode": {
    "name": "ipython",
    "version": 3
   },
   "file_extension": ".py",
   "mimetype": "text/x-python",
   "name": "python",
   "nbconvert_exporter": "python",
   "pygments_lexer": "ipython3",
   "version": "3.7.3"
  }
 },
 "nbformat": 4,
 "nbformat_minor": 2
}
